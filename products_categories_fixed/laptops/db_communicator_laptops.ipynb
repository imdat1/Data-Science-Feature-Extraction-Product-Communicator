{
 "cells": [
  {
   "cell_type": "code",
   "execution_count": 1,
   "metadata": {},
   "outputs": [
    {
     "name": "stderr",
     "output_type": "stream",
     "text": [
      "c:\\Users\\tomce\\miniconda3\\envs\\myenv\\Lib\\site-packages\\tqdm\\auto.py:21: TqdmWarning: IProgress not found. Please update jupyter and ipywidgets. See https://ipywidgets.readthedocs.io/en/stable/user_install.html\n",
      "  from .autonotebook import tqdm as notebook_tqdm\n"
     ]
    }
   ],
   "source": [
    "import sqlite3\n",
    "import json\n",
    "import os\n",
    "from langchain_core.prompts import ChatPromptTemplate\n",
    "from langchain_core.output_parsers import StrOutputParser\n",
    "from langchain_core.runnables import RunnablePassthrough\n",
    "from langchain_google_genai import ChatGoogleGenerativeAI\n",
    "from langchain import SQLDatabase\n",
    "from dotenv import load_dotenv, find_dotenv\n",
    "import sys\n",
    "import stat\n",
    "from langchain_community.llms import HuggingFaceEndpoint\n",
    "from langchain_anthropic import ChatAnthropic"
   ]
  },
  {
   "cell_type": "markdown",
   "metadata": {},
   "source": [
    "#### Load up API Keys"
   ]
  },
  {
   "cell_type": "code",
   "execution_count": 2,
   "metadata": {},
   "outputs": [],
   "source": [
    "load_dotenv(find_dotenv())\n",
    "HUGGINGFACEHUB_API_TOKEN = os.getenv(\"HUGGINGFACEHUB_API_TOKEN\")\n",
    "\n",
    "ANTHROPIC_API_KEY = os.getenv(\"ANTHROPIC_API_KEY\")\n",
    "\n",
    "GOOGLE_API_KEY = os.getenv(\"GOOGLE_API_KEY\")"
   ]
  },
  {
   "cell_type": "markdown",
   "metadata": {},
   "source": [
    "#### Create Database File for Laptops"
   ]
  },
  {
   "cell_type": "code",
   "execution_count": 4,
   "metadata": {},
   "outputs": [],
   "source": [
    "# Function to create database and tables\n",
    "def create_database():\n",
    "    conn = sqlite3.connect('product_database_laptops.db')\n",
    "    c = conn.cursor()\n",
    "\n",
    "    # Create products table\n",
    "    c.execute('''CREATE TABLE IF NOT EXISTS laptops (\n",
    "                    id INTEGER PRIMARY KEY,\n",
    "                    url TEXT,\n",
    "                    title TEXT,\n",
    "                    warranty INTEGER,\n",
    "                    regular_price REAL,\n",
    "                    happy_price REAL,\n",
    "                    category TEXT\n",
    "                 )''')\n",
    "\n",
    "    # Create feature_products table\n",
    "    c.execute('''CREATE TABLE IF NOT EXISTS feature_laptops (\n",
    "                    id INTEGER PRIMARY KEY,\n",
    "                    feature_name TEXT,\n",
    "                    feature_value TEXT\n",
    "                 )''')\n",
    "\n",
    "    # Create product_feature table\n",
    "    c.execute('''CREATE TABLE IF NOT EXISTS laptop_feature (\n",
    "                    product_id INTEGER,\n",
    "                    feature_id INTEGER,\n",
    "                    FOREIGN KEY (product_id) REFERENCES laptops(id),\n",
    "                    FOREIGN KEY (feature_id) REFERENCES feature_laptops(id)\n",
    "                 )''')\n",
    "\n",
    "    conn.commit()\n",
    "    conn.close()\n",
    "\n",
    "# Function to insert product data into database\n",
    "def insert_product_data(product_data):\n",
    "    conn = sqlite3.connect('product_database_laptops.db')\n",
    "    c = conn.cursor()\n",
    "\n",
    "    # Insert product data into products table\n",
    "    c.execute('''INSERT INTO laptops (url, title, warranty, regular_price, happy_price, category)\n",
    "                 VALUES (?, ?, ?, ?, ?, ?)''', (\n",
    "                    product_data.get('url'),\n",
    "                    product_data.get('title'),\n",
    "                    product_data.get('warranty_months'),\n",
    "                    product_data.get('regular_price_mkd'),\n",
    "                    product_data.get('happy_price_mkd'),\n",
    "                    product_data.get('category')\n",
    "                 ))\n",
    "    product_id = c.lastrowid\n",
    "\n",
    "    # Insert feature data into feature_products table and product_feature table\n",
    "    for feature, value in product_data.get('features', {}).items():\n",
    "        # Check if feature already exists\n",
    "        c.execute('''SELECT id FROM feature_laptops WHERE feature_name = ? AND feature_value = ?''', (feature, value))\n",
    "        feature_row = c.fetchone()\n",
    "        if feature_row:\n",
    "            feature_id = feature_row[0]\n",
    "        else:\n",
    "            c.execute('''INSERT INTO feature_laptops (feature_name, feature_value) VALUES (?, ?)''', (feature, value))\n",
    "            feature_id = c.lastrowid\n",
    "\n",
    "        # Insert into product_feature table\n",
    "        c.execute('''INSERT INTO laptop_feature (product_id, feature_id) VALUES (?, ?)''',\n",
    "                  (product_id, feature_id))\n",
    "\n",
    "    conn.commit()\n",
    "    conn.close()\n",
    "\n",
    "# Function to read JSON files from a directory and insert data into database\n",
    "def process_json_files(directory):\n",
    "    for filename in os.listdir(directory):\n",
    "        if filename.endswith('.json'):\n",
    "            with open(os.path.join(directory, filename), 'r') as file:\n",
    "                product_data = json.load(file)\n",
    "                insert_product_data(product_data)\n",
    "\n",
    "# Create database and tables\n",
    "create_database()\n",
    "\n",
    "# Process JSON files and insert data into database\n",
    "json_directory = r'C:\\Users\\tomce\\OneDrive - UKIM, FINKI\\Desktop\\Fakultet 3ta Godina\\2 Sesti Semestar\\0 DATA SCIENCE SEMINARSKA\\1 Starting Over\\products_categories_fixed\\gaming_laptops\\gaming_laptops_new_template'\n",
    "process_json_files(json_directory)\n"
   ]
  },
  {
   "cell_type": "markdown",
   "metadata": {},
   "source": [
    "#### Get All \"feature_name=feature_value\" pairs for each key-value "
   ]
  },
  {
   "cell_type": "code",
   "execution_count": 5,
   "metadata": {},
   "outputs": [
    {
     "name": "stdout",
     "output_type": "stream",
     "text": [
      "screen_size_inches=15.6, screen_resolution=1920 x 1080, screen_type=FHD IPS, screen_refresh_rate_hz=144, processor_model=Intel® Core i5-11400H, processor_cores=6, processor_base_clock_ghz=2.7, gpu_model=NVIDIA® GeForce RTX 3050, gpu_memory_gb=4, ram_size_gb=8, ram_type=DDR4, storage_size_tb=0.512, storage_type=SSD, operating_system=UEFI Shell, wifi_standard=IEEE 802.11 a/b/g/n/ac/ax, bluetooth_version=5.2, usb_type_c_ports=1, hdmi_ports=1, battery_cells=4, screen_type=FHD, IPS, SlimBezel, processor_model=Intel® Core™ i5-1240P, processor_cores=12, processor_threads=16, processor_max_clock_ghz=4.4, gpu_model=NVIDIA® GeForce RTX™ 2050, ram_size_gb=16, storage_type=PCIe NVMe SSD, operating_system=Без оперативен систем, wifi_standard=Wi-Fi 6 AX, bluetooth_version=BT, battery_capacity_wh=50, security_feature_1=Acer PBA fingerprint reader, screen_type=IPS, processor_model=Intel® Core™ i7-1260P, processor_max_clock_ghz=4.7, wifi_standard=IEEE 802.11ax, processor_model=Intel® Core™ i5-12450H, processor_cores=8, processor_base_clock_ghz=3.3, bluetooth_version=5.1, usb_type_a_ports=3, keyboard_type=Keyboard Backlight, battery_cells=3, security_feature_1=Fingerprint reader, processor_model=Intel® Core™ i7-12650H, processor_cores=10, processor_base_clock_ghz=4.7, screen_resolution=1920x1080, processor_model=AMD Ryzen™ 7 6800H, processor_base_clock_ghz=3.2, gpu_model=NVIDIA® GeForce RTX™ 3050, ram_type=DDR5, storage_type=PCIe NVMe SED SSD, wifi_standard=Wi-Fi 6E, battery_capacity_wh=57, processor_model=AMD Ryzen 7 6800H, gpu_model=NVIDIA GeForce RTX 3070 Ti, gpu_memory_gb=8, storage_type=NVMe SSD, battery_capacity_wh=57.5, processor_model=AMD Ryzen™ 5 6600H, processor_threads=12, processor_max_clock_ghz=4.5, wifi_standard=WI-FI 6E, processor_model=AMD Ryzen® 5 7535HS, processor_max_clock_ghz=4.55, processor_model=AMD Ryzen® 7 7735HS, processor_max_clock_ghz=4.75, gpu_model=NVIDIA® GeForce RTX® 3050, screen_size_inches=17.3, screen_type=FHD, IPS, processor_model=Intel® Core™ i7-11600H, processor_base_clock_ghz=4.6, ram_size_gb=32, storage_type=PCIe NVMe M.2 SSD, usb_type_a_ports=4, audio_jack_ports=1, processor_model=Intel® Core™ i7-11600H Hexa-core, processor_base_clock_ghz=2.9, processor_max_clock_ghz=4.6, storage_size_tb=0.5, operating_system=None, usb_type_c_ports=0, card_reader=None, keyboard_type=Red Backlight, audio_feature_1=h2, battery_cells=None, security_feature_1=None, processor_model=Intel® Core™ i5-12500H, operating_system=No OS, wifi_standard=WIFI6E, battery_capacity_wh=90, wifi_standard=802.11AX, screen_type=FHD LED, processor_model=Intel Core i7-12700H, processor_cores=14, processor_threads=20, gpu_model=NVIDIA GeForce RTX 3060, gpu_memory_gb=6, screen_resolution=FHD (1920 x 1080), screen_refresh_rate_hz=165, processor_model=Intel® Core™ i7-12700H, gpu_model=NVIDIA® GeForce RTX™ 3070 Ti, operating_system=Бежичен оперативен систем, processor_model=Intel® Core™ i9-12900H, processor_max_clock_ghz=5, storage_size_tb=1, processor_model=12th Gen Intel® Core™ i9-12900H, processor_threads=24, gpu_model=NVIDIA® GeForce® RTX™ 3070, storage_type=SSD PCIe, usb_type_c_ports=2, audio_feature_1=Acer TrueHarmony, processor_base_clock_ghz=2.5, screen_size_inches=16, screen_resolution=2560 x 1600, screen_type=WQXGA IPS, gpu_model=Nvidia Geforce RTX 3060, operating_system=Windows 11 Home, usb_type_a_ports=2, card_reader=microSD, keyboard_type=Осветлена тастатура RGB, audio_feature_1=2x 2W speaker, security_feature_1=BIOS Administrator Password and User Password Protection, screen_resolution=1920 x 1200, processor_model=Intel Core i7-13650HX, processor_base_clock_ghz=2.6, processor_max_clock_ghz=4.9, gpu_model=NVIDIA GeForce RTX 4070, storage_type=PCIe 4.0 NVMe M.2 SSD, keyboard_type=Backlit Chiclet Keyboard 4-Zone RGB, audio_feature_1=звучници со 2 звучници со Smart Amplifier Technology, screen_type=FHD+, IPS, screen_refresh_rate_hz=160, processor_model=13th Gen Intel Core i5-13450HX Processor, processor_threads=10, processor_base_clock_ghz=2.4, gpu_model=NVIDIA GeForce RTX 4050, ram_type=DDR5-4800, bluetooth_version=5.3, audio_feature_1=2x звучници со Smart Amplifier технологија, screen_type=WUXGA, processor_model=Intel Core i5-13450HX Processor 2.4 GHz (20M Cache, up to 4.6 GHz, 10 cores), gpu_model=NVIDIA GeForce RTX 4050 Laptop GPU 6GB GDDR6, audio_feature_1=система со 2 звучници со Smart Amplifier Technology, screen_resolution=1920 x 1200 (WUXGA) FHD+, processor_model=Intel Core i7-13650HX Processor, audio_feature_1=систем со 2 звучници со Smart Amplifier Technology, processor_model=Intel Core i5-13450HX Processor, gpu_model=NVIDIA GeForce RTX 4060 Laptop GPU, processor_model=Intel Core i9-14900HX, processor_cores=24, processor_max_clock_ghz=5.8, gpu_model=NVIDIA GeForce RTX 4060, screen_refresh_rate_hz=360, processor_model=AMD Rembrandt R7-H (TBD) R7-6800H, keyboard_type=4-Zone RGB, audio_feature_1=2-speaker system with Smart Amplifier Technology, screen_size_inches=14, screen_resolution=2880 x 1800, screen_type=OLED, screen_refresh_rate_hz=120, processor_model=AMD Ryzen™ 9 8945HS, processor_base_clock_ghz=4, processor_max_clock_ghz=5.2, ram_type=DDR5X, storage_type=M.2 2280 PCIe Gen4 SSD, card_reader=microSD (UHS-II), keyboard_type=Backlit Chiclet Keyboard 1-Zone RGB, audio_feature_1=4-speaker (dual force woofer) system with Smart Amplifier Technology, battery_capacity_wh=73, processor_model=AMD Ryzen® 9 8945HS, screen_size_inches=16.0, screen_refresh_rate_hz=240, processor_model=12th Gen Intel Core i7-12700H Processor, processor_base_clock_ghz=2.3, gpu_model=GeForce RTX 4060, card_reader=microSD (UHS-II, 312MB/s), audio_feature_1=Tech AI noise-canceling - Dolby Atmos, processor_model=Intel® Core™ Ultra 7 155H, processor_cores=16, processor_max_clock_ghz=4.8, gpu_model=Nvidia Geforce RTX 4070, card_reader=SD (UHS-II, 312MB/s), processor_model=AMD Ryzen 7 7735HS Mobile Processor, wifi_standard=Wi-Fi 6, audio_feature_1=Tech AI noise-canceling, wifi_standard=Wi-Fi 6(802.11ax), audio_feature_1=2-speaker system, processor_model=Intel Core i5-11400H Processor, gpu_model=NVIDIA GeForce RTX 2050, storage_type=PCIe 3.0 NVMe M.2 SSD, battery_capacity_wh=48, processor_model=12th Gen Intel Core i7-12700H, processor_threads=14, gpu_model=NVIDIA GeForce RTX 3050, keyboard_type=RGB, battery_capacity_wh=56, security_feature_1=BIOS Administrator Password, processor_model=12th Gen Intel Core i5-12500H Processor, ram_type=DDR4-3200, audio_feature_1=AI noise-canceling - Dolby Atmos, screen_resolution=2560 x 1440, screen_type=WQHD IPS, processor_model=13th Gen Intel Core i7-13650HX Processor, screen_resolution=(1920x1080) FHD, processor_model=13th Gen Intel® Core™ i5-13450HX, storage_type=M.2, PCIe NVMe, SSD, operating_system=Windows 11 Pro, wifi_standard=Wi-Fi 6 AX201, 2x2, 802.11ax, keyboard_type=backlit keyboard, screen_type=FHD, processor_model=13th Gen Intel® Core™ i7-13650HX, ram_type=4800 MHz, wifi_standard=Wi-Fi 5 (Wi-Fi 802.11ac), bluetooth_version=5.0, battery_capacity_wh=54, screen_type=QHD+, processor_model=13th Gen Intel® Core™ ) i9-13900HX, processor_threads=32, processor_max_clock_ghz=5.4, gpu_model=NVIDIA® GeForce RTX™ 4060, battery_capacity_wh=86, battery_cells=6, screen_type=FHD 144Hz DCI-P3 100% DDS, processor_model=12th Gen Intel® Core™ i5-12500H Processor, processor_cores=4, processor_threads=8, processor_base_clock_ghz=4.5, gpu_model=NVIDIA® GeForce RTX™ 4060 Laptop GPU, ram_type=DDR4-3200MHz, storage_type=M.2 PCIe Gen4x4, wifi_standard=Intel® Wi-Fi 6E, card_reader=MicroSD Card Reader, audio_feature_1=2x 2W speakers, screen_resolution=1920x1200, processor_model=13th Gen Intel® Core™ i7-13620H, processor_base_clock_ghz=4.9, audio_jack_ports=2, card_reader=MicroSD, audio_feature_1=DTS:X® Ultra Audio Technology, processor_model=Intel® Core™ i7-13650HX Processor, gpu_model=NVIDIA® GeForce RTX™ 4050 Laptop GPU, ram_type=DDR5-4800MHz, storage_type=M.2 PCIe® Gen4x4 NVMe™, bluetooth_version=V5.2, keyboard_type=RGB Backlit Keyboard (15 colors, with 10-key), audio_feature_1=Dolby Atmos®, audio_feature_1=2x 2W\n",
      "DTS:X® Ultra Audio Technology, processor_model=Intel Core i7-13700H Processor, processor_model=Intel Core i7-12650H, storage_type=SSD M.2 2280 PCIe 3.0x4 NVMe, keyboard_type=Backlit, English, audio_feature_1=Stereo speakers, 2W x2, Nahimic Audio, battery_capacity_wh=60, screen_size_inches=16.1, processor_model=Intel® Core™ i5-13420H, gpu_model=NVIDIA® GeForce RTX™ 4050, usb_type_a_ports=5, audio_feature_1=Audio by B&O; DTS:X® Ultra, Dual speakers, HP Audio Boost, battery_capacity_wh=83, processor_model=Intel® Core™ i7-13700H, processor_max_clock_ghz=5.0, ram_type=DDR4-3200 MHz, storage_type=PCIe® Gen4 NVMe™ M.2 SSD, audio_feature_1=Audio by B&O; Dual speakers; HP Audio Boost, battery_capacity_wh=70, ram_type=DDR5-5200 MHz, storage_type=PCIe® Gen4 NVMe™ TLC M.2 SSD, wifi_standard=Wi-Fi 6 MT7921, audio_feature_1=Audio by B&O Dual speakers HP Audio Boost, processor_model=Intel® Core™ i5-13500H, wifi_standard=Wi-Fi 6 MT7921 (2x2), processor_model=AMD Ryzen™ 5 5600H, processor_max_clock_ghz=4.2, gpu_model=NVIDIA® GeForce GTX 1650, storage_type=SSD M.2 2280 PCIe® 3.0x4 NVMe™, wifi_standard=Wi-Fi® 6, bluetooth_version=BT5.1, keyboard_type=White Backlit, English, audio_feature_1=Stereo speakers, 2W x2, optimized with Nahimic Audio, battery_capacity_wh=45, screen_refresh_rate_hz=60, processor_model=AMD Ryzen™ 5 5500H, storage_type=SSD M.2 2242 PCIe® 4.0x4 NVMe®, wifi_standard=Wi-Fi 6, 11ax 2x2, screen_resolution=FHD (1920x1080), wifi_standard=Wi-Fi® 6, 11ax, keyboard_type=White Backlit, ram_type=SO-DIMM DDR4-3200, screen_resolution=2560x1600, processor_model=Intel® Core™ i7-14650HX, processor_base_clock_ghz=2.2, gpu_model=NVIDIA® GeForce RTX™ 4070, ram_type=DDR5-5600, storage_type=SSD M.2 2280 PCIe® 4.0x4 NVMe™, wifi_standard=Wi-Fi® 6E, battery_capacity_wh=80, screen_resolution=WQXGA (2560x1600), processor_model=Intel® Core™ i9-14900HX, gpu_model=NVIDIA® GeForce RTX™ 4080, gpu_memory_gb=12, storage_type=SSD M.2 2280 PCIe® 4.0x4 NVMe®, wifi_standard=Wi-Fi 6E AX1675i, keyboard_type=RGB Backlit, audio_feature_1=Stereo speakers, 2W x2, audio by HARMAN, optimized with Nahimic Audio, Smart Amplifier (AMP), battery_capacity_wh=99.9, processor_model=AMD Ryzen™ 7 8845HS, processor_base_clock_ghz=3.8, processor_max_clock_ghz=5.1, screen_type=WQXGA, IPS, ram_type=DDR5-5200, wifi_standard=Wi-Fi® 6E, 11ax, card_reader=Card reader, processor_model=AMD Ryzen™ 5 7640HS, processor_base_clock_ghz=4.3, storage_type=SSD M.2 2242 PCIe® 4.0x4 NVMe™, audio_feature_1=Stereo speakers, 2W x2, optimized with Nahimic Gaming Audio, processor_model=Intel® Core™ i5-12450HX, processor_base_clock_ghz=4.4, processor_max_clock_ghz=3.1, processor_base_clock_ghz=2.0, processor_base_clock_ghz=2.1, processor_model=Intel® Core™ i7-13620H, gpu_model=NVIDIA® GeForce RTX® 4060, screen_type=FHD, IPS, Anti-glare, processor_model=Intel® Core™ i7-13650HX, gpu_model=NVIDIA® GeForce RTX® 4050, wifi_standard=Wi-Fi® 6, 11ax 2x2, bluetooth_version=BT5.2\n"
     ]
    }
   ],
   "source": [
    "def get_features_string(db_path):\n",
    "    # Connect to the SQLite database\n",
    "    conn = sqlite3.connect(db_path)\n",
    "    cursor = conn.cursor()\n",
    "    \n",
    "    # Query to select all features\n",
    "    cursor.execute(\"SELECT feature_name, feature_value FROM feature_laptops WHERE feature_value IS NOT NULL\")\n",
    "    \n",
    "    # Fetch all rows from the executed query\n",
    "    features = cursor.fetchall()\n",
    "    \n",
    "    # Close the database connection\n",
    "    conn.close()\n",
    "    \n",
    "    # Format the features into the desired string format\n",
    "    features_string = \", \".join([f\"{name}={value}\" for name, value in features])\n",
    "    \n",
    "    return features_string\n",
    "\n",
    "# Example usage\n",
    "db_path = 'product_database_laptops.db'\n",
    "features_string = get_features_string(db_path)\n",
    "print(features_string)"
   ]
  },
  {
   "cell_type": "markdown",
   "metadata": {},
   "source": [
    "#### Connect with Database File"
   ]
  },
  {
   "cell_type": "code",
   "execution_count": 6,
   "metadata": {},
   "outputs": [],
   "source": [
    "conn = sqlite3.connect('product_database_laptops.db')\n",
    "c = conn.cursor()\n",
    "input_db = SQLDatabase.from_uri('sqlite:///product_database_laptops.db')"
   ]
  },
  {
   "cell_type": "markdown",
   "metadata": {},
   "source": [
    "#### Chat Prompt Template for Communicating With Laptops"
   ]
  },
  {
   "cell_type": "code",
   "execution_count": 7,
   "metadata": {},
   "outputs": [],
   "source": [
    "template = \"\"\"Based on the table schema below, write a SQL query that would answer the user's question:\n",
    "{schema}\n",
    "\n",
    "Please note that in the schema, the regular_price is the normal price, while the happy_price is a discounted one.\n",
    "Table Descriptions:\n",
    "laptops Table:\n",
    "id: An integer representing the unique identifier for each laptop product.\n",
    "url: A text field to store the URL of the product.\n",
    "title: A text field for the product title.\n",
    "warranty: An integer field representing the warranty duration (in months).\n",
    "regular_price: A real number field for the regular price of the laptop.\n",
    "happy_price: A real number field for the discounted price (if available).\n",
    "category: A text field to categorize the laptop product (e.g., ‘Gaming’, ‘Business’, etc.).\n",
    "\n",
    "feature_laptops Table:\n",
    "id: An integer representing the unique identifier for each feature.\n",
    "feature_name: A text field describing a specific feature (e.g., ‘Processor’, ‘RAM’, etc.).\n",
    "feature_value: A text field containing the value of the feature (e.g., ‘Intel Core i7’, ‘16GB’, etc.).\n",
    "\n",
    "laptop_feature Table:\n",
    "product_id: An integer representing the foreign key reference to the id field in the Laptops Table.\n",
    "feature_id: An integer representing the foreign key reference to the id field in the Feature Laptops Table.\"\n",
    "\n",
    "Example input for questions asking for multiple features: 'What OLED TVs are there that have a display bigger than 60 inches?'\n",
    "Example output for questions asking for multiple features:\n",
    "'SELECT tvs.title, screen_size.feature_value, screen_type.feature_value \n",
    "FROM tvs\n",
    "JOIN tv_feature AS tvf1 ON tvs.id = tvf1.product_id\n",
    "JOIN feature_tvs AS screen_size ON tvf1.feature_id = screen_size.id\n",
    "JOIN tv_feature AS tvf2 ON tvs.id = tvf2.product_id\n",
    "JOIN feature_tvs AS screen_type ON tvf2.feature_id = screen_type.id\n",
    "WHERE screen_size.feature_name = 'screen_size_inches'\n",
    "AND CAST(screen_size.feature_value AS INTEGER) >= 60\n",
    "AND screen_type.feature_name = 'panel_type'\n",
    "AND screen_type.feature_value LIKE '%OLED%';'\n",
    "\n",
    "Don't include a feature in the query if the user doesn't ask for it.\n",
    "\n",
    "You ABSOLUTELY MUST use the ‘LIKE’ operator instead of ‘=’ in the SQL query for columns in the tables that are of TEXT value.\n",
    "You ABSOLUTELY MUST use the ‘=’ operator instead of ‘LIKE’ in the SQL query for columns in the tables that are of REAL, DOUBLE, or INTEGER value.\n",
    "Here are all the features a user might ask for:\n",
    "{features}\n",
    "Question: {question}\n",
    "SQL Query:\n",
    "\"\"\"\n",
    "prompt = ChatPromptTemplate.from_template(template)\n",
    "\n",
    "def get_schema(db):\n",
    "    schema = input_db.get_table_info()\n",
    "    return schema"
   ]
  },
  {
   "cell_type": "markdown",
   "metadata": {},
   "source": [
    "#### 3 Models to Choose From: HuggingFace Mistral, Gemini, and Claude Sonnet"
   ]
  },
  {
   "cell_type": "code",
   "execution_count": 8,
   "metadata": {},
   "outputs": [
    {
     "name": "stderr",
     "output_type": "stream",
     "text": [
      "WARNING! max_length is not default parameter.\n",
      "                    max_length was transferred to model_kwargs.\n",
      "                    Please make sure that max_length is what you intended.\n",
      "WARNING! token is not default parameter.\n",
      "                    token was transferred to model_kwargs.\n",
      "                    Please make sure that token is what you intended.\n"
     ]
    },
    {
     "name": "stdout",
     "output_type": "stream",
     "text": [
      "Token will not been saved to git credential helper. Pass `add_to_git_credential=True` if you want to set the git credential as well.\n",
      "Token is valid (permission: read).\n",
      "Your token has been saved to C:\\Users\\tomce\\.cache\\huggingface\\token\n",
      "Login successful\n"
     ]
    }
   ],
   "source": [
    "repo_id = \"mistralai/Mistral-7B-Instruct-v0.3\"\n",
    "llm = HuggingFaceEndpoint(\n",
    "    repo_id=repo_id, max_length=128, temperature=0.1, token=HUGGINGFACEHUB_API_TOKEN\n",
    ")"
   ]
  },
  {
   "cell_type": "code",
   "execution_count": null,
   "metadata": {},
   "outputs": [],
   "source": [
    "llm = ChatGoogleGenerativeAI(model=\"gemini-pro\", temperature=0.1)"
   ]
  },
  {
   "cell_type": "code",
   "execution_count": null,
   "metadata": {},
   "outputs": [],
   "source": [
    "llm = ChatAnthropic(temperature=0, model_name=\"claude-3-sonnet-20240229\")"
   ]
  },
  {
   "cell_type": "markdown",
   "metadata": {},
   "source": [
    "#### Ask Question to Get Query Answer"
   ]
  },
  {
   "cell_type": "code",
   "execution_count": null,
   "metadata": {},
   "outputs": [],
   "source": [
    "sql_chain = (\n",
    "    RunnablePassthrough.assign(schema=get_schema)\n",
    "    | prompt\n",
    "    | llm.bind(stop=[\"\\nSQLResult:\"])\n",
    "    | StrOutputParser()\n",
    ")\n",
    "\n",
    "user_question = 'What laptops are there that have at least 8GB of RAM?'\n",
    "smth= sql_chain.invoke({\"features\": features_string,\"question\": user_question})\n",
    "print(smth)\n",
    "output_string = smth.replace(\"```sql\", \"\").replace(\"```\", \"\")\n",
    "print(output_string)"
   ]
  },
  {
   "cell_type": "markdown",
   "metadata": {},
   "source": [
    "### BELOW MISTRALAI"
   ]
  },
  {
   "cell_type": "code",
   "execution_count": 9,
   "metadata": {},
   "outputs": [
    {
     "name": "stdout",
     "output_type": "stream",
     "text": [
      "\n",
      "```sql\n",
      "SELECT laptops.title, ram_size.feature_value\n",
      "FROM laptops\n",
      "JOIN laptop_feature AS laptop_feature1 ON laptops.id = laptop_feature1.product_id\n",
      "JOIN feature_laptops AS ram_size ON laptop_feature1.feature_id = ram_size.id\n",
      "WHERE ram_size.feature_name = 'ram_size_gb'\n",
      "AND CAST(ram_size.feature_value AS INTEGER) >= 8;\n",
      "```\n",
      "\n",
      "This query will return the title and the RAM size of all laptops that have at least 8GB of RAM.\n",
      "\n",
      "\n",
      "SELECT laptops.title, ram_size.feature_value\n",
      "FROM laptops\n",
      "JOIN laptop_feature AS laptop_feature1 ON laptops.id = laptop_feature1.product_id\n",
      "JOIN feature_laptops AS ram_size ON laptop_feature1.feature_id = ram_size.id\n",
      "WHERE ram_size.feature_name = 'ram_size_gb'\n",
      "AND CAST(ram_size.feature_value AS INTEGER) >= 8;\n",
      "\n",
      "\n",
      "This query will return the title and the RAM size of all laptops that have at least 8GB of RAM.\n"
     ]
    }
   ],
   "source": [
    "sql_chain = (\n",
    "    RunnablePassthrough.assign(schema=get_schema)\n",
    "    | prompt\n",
    "    | llm.bind(stop=[\"\\nSQLResult:\"])\n",
    "    | StrOutputParser()\n",
    ")\n",
    "\n",
    "user_question = 'What laptops are there that have at least 8GB of RAM?'\n",
    "smth= sql_chain.invoke({\"features\": features_string,\"question\": user_question})\n",
    "print(smth)\n",
    "output_string = smth.replace(\"```sql\", \"\").replace(\"```\", \"\")\n",
    "print(output_string)"
   ]
  }
 ],
 "metadata": {
  "kernelspec": {
   "display_name": "myenv",
   "language": "python",
   "name": "python3"
  },
  "language_info": {
   "codemirror_mode": {
    "name": "ipython",
    "version": 3
   },
   "file_extension": ".py",
   "mimetype": "text/x-python",
   "name": "python",
   "nbconvert_exporter": "python",
   "pygments_lexer": "ipython3",
   "version": "3.12.1"
  }
 },
 "nbformat": 4,
 "nbformat_minor": 2
}
