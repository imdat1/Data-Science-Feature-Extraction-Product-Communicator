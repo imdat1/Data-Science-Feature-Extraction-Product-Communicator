{
 "cells": [
  {
   "cell_type": "code",
   "execution_count": 1,
   "metadata": {},
   "outputs": [
    {
     "name": "stderr",
     "output_type": "stream",
     "text": [
      "c:\\Users\\tomce\\miniconda3\\envs\\myenv\\Lib\\site-packages\\tqdm\\auto.py:21: TqdmWarning: IProgress not found. Please update jupyter and ipywidgets. See https://ipywidgets.readthedocs.io/en/stable/user_install.html\n",
      "  from .autonotebook import tqdm as notebook_tqdm\n"
     ]
    }
   ],
   "source": [
    "import sqlite3\n",
    "import json\n",
    "import os\n",
    "from langchain_core.prompts import ChatPromptTemplate\n",
    "from langchain_core.output_parsers import StrOutputParser\n",
    "from langchain_core.runnables import RunnablePassthrough\n",
    "from langchain_google_genai import ChatGoogleGenerativeAI\n",
    "from langchain import SQLDatabase\n",
    "from dotenv import load_dotenv, find_dotenv\n",
    "import sys\n",
    "import stat\n",
    "from langchain_community.llms import HuggingFaceEndpoint\n",
    "from langchain_anthropic import ChatAnthropic"
   ]
  },
  {
   "cell_type": "markdown",
   "metadata": {},
   "source": [
    "#### Load up API Keys"
   ]
  },
  {
   "cell_type": "code",
   "execution_count": 2,
   "metadata": {},
   "outputs": [],
   "source": [
    "load_dotenv(find_dotenv())\n",
    "HUGGINGFACEHUB_API_TOKEN = os.getenv(\"HUGGINGFACEHUB_API_TOKEN\")\n",
    "\n",
    "ANTHROPIC_API_KEY = os.getenv(\"ANTHROPIC_API_KEY\")\n",
    "\n",
    "GOOGLE_API_KEY = os.getenv(\"GOOGLE_API_KEY\")"
   ]
  },
  {
   "cell_type": "markdown",
   "metadata": {},
   "source": [
    "#### Create Database File for Mobile Phones"
   ]
  },
  {
   "cell_type": "code",
   "execution_count": 164,
   "metadata": {},
   "outputs": [],
   "source": [
    "# Function to create database and tables\n",
    "def create_database():\n",
    "    conn = sqlite3.connect('product_database12.db')\n",
    "    c = conn.cursor()\n",
    "\n",
    "    # Create products table\n",
    "    c.execute('''CREATE TABLE IF NOT EXISTS mobile_phones (\n",
    "                    id INTEGER PRIMARY KEY,\n",
    "                    url TEXT,\n",
    "                    title TEXT,\n",
    "                    warranty INTEGER,\n",
    "                    regular_price REAL,\n",
    "                    happy_price REAL,\n",
    "                    category TEXT\n",
    "                 )''')\n",
    "\n",
    "    # Create feature_products table\n",
    "    c.execute('''CREATE TABLE IF NOT EXISTS feature_mobile_phones (\n",
    "                    id INTEGER PRIMARY KEY,\n",
    "                    feature_name TEXT,\n",
    "                    feature_value TEXT\n",
    "                 )''')\n",
    "\n",
    "    # Create product_feature table\n",
    "    c.execute('''CREATE TABLE IF NOT EXISTS mobile_phone_feature (\n",
    "                    product_id INTEGER,\n",
    "                    feature_id INTEGER,\n",
    "                    FOREIGN KEY (product_id) REFERENCES mobile_phones(id),\n",
    "                    FOREIGN KEY (feature_id) REFERENCES feature_mobile_phones(id)\n",
    "                 )''')\n",
    "\n",
    "    conn.commit()\n",
    "    conn.close()\n",
    "\n",
    "# Function to insert product data into database\n",
    "def insert_product_data(product_data):\n",
    "    conn = sqlite3.connect('product_database12.db')\n",
    "    c = conn.cursor()\n",
    "\n",
    "    # Insert product data into products table\n",
    "    c.execute('''INSERT INTO mobile_phones (url, title, warranty, regular_price, happy_price, category)\n",
    "                 VALUES (?, ?, ?, ?, ?, ?)''', (\n",
    "                    product_data.get('url'),\n",
    "                    product_data.get('title'),\n",
    "                    product_data.get('warranty_months'),\n",
    "                    product_data.get('regular_price_mkd'),\n",
    "                    product_data.get('happy_price_mkd'),\n",
    "                    product_data.get('category')\n",
    "                 ))\n",
    "    product_id = c.lastrowid\n",
    "\n",
    "    # Insert feature data into feature_products table and product_feature table\n",
    "    for feature, value in product_data.get('features', {}).items():\n",
    "        # Check if feature already exists\n",
    "        c.execute('''SELECT id FROM feature_mobile_phones WHERE feature_name = ? AND feature_value = ?''', (feature, value))\n",
    "        feature_row = c.fetchone()\n",
    "        if feature_row:\n",
    "            feature_id = feature_row[0]\n",
    "        else:\n",
    "            c.execute('''INSERT INTO feature_mobile_phones (feature_name, feature_value) VALUES (?, ?)''', (feature, value))\n",
    "            feature_id = c.lastrowid\n",
    "\n",
    "        # Insert into product_feature table\n",
    "        c.execute('''INSERT INTO mobile_phone_feature (product_id, feature_id) VALUES (?, ?)''',\n",
    "                  (product_id, feature_id))\n",
    "\n",
    "    conn.commit()\n",
    "    conn.close()\n",
    "\n",
    "# Function to read JSON files from a directory and insert data into database\n",
    "def process_json_files(directory):\n",
    "    for filename in os.listdir(directory):\n",
    "        if filename.endswith('.json'):\n",
    "            with open(os.path.join(directory, filename), 'r') as file:\n",
    "                product_data = json.load(file)\n",
    "                insert_product_data(product_data)\n",
    "\n",
    "# Create database and tables\n",
    "create_database()\n",
    "\n",
    "# Process JSON files and insert data into database\n",
    "json_directory = r'C:\\Users\\tomce\\OneDrive - UKIM, FINKI\\Desktop\\Fakultet 3ta Godina\\2 Sesti Semestar\\0 DATA SCIENCE SEMINARSKA\\1 Starting Over\\products_categories_fixed\\mobile_phones\\mobile_phones_new_template'\n",
    "process_json_files(json_directory)\n"
   ]
  },
  {
   "cell_type": "markdown",
   "metadata": {},
   "source": [
    "#### Get All \"feature_name=feature_value\" pairs for each key-value "
   ]
  },
  {
   "cell_type": "code",
   "execution_count": null,
   "metadata": {},
   "outputs": [],
   "source": [
    "def get_features_string(db_path):\n",
    "    # Connect to the SQLite database\n",
    "    conn = sqlite3.connect(db_path)\n",
    "    cursor = conn.cursor()\n",
    "    \n",
    "    # Query to select all features\n",
    "    cursor.execute(\"SELECT feature_name, feature_value FROM feature_mobile_phones WHERE feature_value IS NOT NULL\")\n",
    "    \n",
    "    # Fetch all rows from the executed query\n",
    "    features = cursor.fetchall()\n",
    "    \n",
    "    # Close the database connection\n",
    "    conn.close()\n",
    "    \n",
    "    # Format the features into the desired string format\n",
    "    features_string = \", \".join([f\"{name}={value}\" for name, value in features])\n",
    "    \n",
    "    return features_string\n",
    "\n",
    "# Example usage\n",
    "db_path = 'product_database11.db'\n",
    "features_string = get_features_string(db_path)\n",
    "print(features_string)"
   ]
  },
  {
   "cell_type": "markdown",
   "metadata": {},
   "source": [
    "#### Connect with Database File"
   ]
  },
  {
   "cell_type": "code",
   "execution_count": 165,
   "metadata": {},
   "outputs": [],
   "source": [
    "conn = sqlite3.connect('product_database12.db')\n",
    "c = conn.cursor()\n",
    "input_db = SQLDatabase.from_uri('sqlite:///product_database11.db')"
   ]
  },
  {
   "cell_type": "markdown",
   "metadata": {},
   "source": [
    "#### Loading Features Table From .txt File (Not Needed Anymore)"
   ]
  },
  {
   "cell_type": "code",
   "execution_count": 12,
   "metadata": {},
   "outputs": [],
   "source": [
    "pat_dir = r\"C:\\Users\\tomce\\OneDrive - UKIM, FINKI\\Desktop\\Fakultet 3ta Godina\\2 Sesti Semestar\\0 DATA SCIENCE SEMINARSKA\\1 Starting Over\\products_categories_fixed\\mobile_phones\\templates\\feature2.txt\"\n",
    "\n",
    "os.chmod(pat_dir, stat.S_IREAD | stat.S_IWRITE)\n",
    "\n",
    "with open(pat_dir, \"r\") as f: features = f.read()"
   ]
  },
  {
   "cell_type": "markdown",
   "metadata": {},
   "source": [
    "#### Chat Prompt Template for Communicating With Mobile Phones"
   ]
  },
  {
   "cell_type": "code",
   "execution_count": 166,
   "metadata": {},
   "outputs": [],
   "source": [
    "template = \"\"\"Based on the table schema below, write a SQL query that would answer the user's question:\n",
    "{schema}\n",
    "\n",
    "Please note that in the schema, the regular_price is the normal price, while the happy_price is a discounted one.\n",
    "Table Descriptions:\n",
    "mobile_phones Table:\n",
    "This table stores general information about mobile phones.\n",
    "Columns:\n",
    "id: Unique identifier for each mobile phone.\n",
    "url: URL link to the product page.\n",
    "title: Title or name of the mobile phone.\n",
    "warranty: Duration of warranty in months.\n",
    "regular_price: Normal price of the mobile phone.\n",
    "happy_price: Discounted price (if applicable).\n",
    "category: Category of the mobile phone (e.g., “gaming_laptops”).\n",
    "\n",
    "feature_mobile_phones Table:\n",
    "This table captures individual features of mobile phones.\n",
    "Columns:\n",
    "id: Unique identifier for each feature.\n",
    "feature_name: Name of the feature (e.g., “camera resolution,” “battery capacity”).\n",
    "feature_value: Value associated with the feature (e.g., “12 MP,” “4000 mAh”).\n",
    "\n",
    "mobile_phone_feature Table:\n",
    "This table establishes a many-to-many relationship between mobile phones and their features.\n",
    "Columns:\n",
    "product_id: Foreign key referencing the id column in the mobile_phones table.\n",
    "feature_id: Foreign key referencing the id column in the feature_mobile_phones table.\n",
    "\n",
    "Example input for questions asking for multiple features: 'What phones are there that have a screen size of at least 6 inches and an OLED screen?'\n",
    "Example output for questions asking for multiple features:\n",
    "'SELECT mobile_phones.title, screen_size.feature_value AS screen_size, screen_type.feature_value AS screen_type\n",
    "FROM mobile_phones\n",
    "JOIN mobile_phone_feature AS mpf1 ON mobile_phones.id = mpf1.product_id\n",
    "JOIN feature_mobile_phones AS screen_size ON mpf1.feature_id = screen_size.id\n",
    "JOIN mobile_phone_feature AS mpf2 ON mobile_phones.id = mpf2.product_id\n",
    "JOIN feature_mobile_phones AS screen_type ON mpf2.feature_id = screen_type.id\n",
    "WHERE screen_size.feature_name = 'screen_size_inches'\n",
    "AND CAST(screen_size.feature_value AS UNSIGNED) >= 6\n",
    "AND screen_type.feature_name = 'screen_type'\n",
    "AND screen_type.feature_value LIKE '%OLED%';'\n",
    "Don't include a feature in the query if the user doesn't ask for it.\n",
    "\n",
    "You ABSOLUTELY MUST use the ‘LIKE’ operator instead of ‘=’ in the SQL query for columns in the tables that are of TEXT value.\n",
    "You ABSOLUTELY MUST use the ‘=’ operator instead of ‘LIKE’ in the SQL query for columns in the tables that are of REAL, DOUBLE, or INTEGER value.\n",
    "Here are all the features a user might ask for:\n",
    "{features}\n",
    "Question: {question}\n",
    "SQL Query:\n",
    "\"\"\"\n",
    "prompt = ChatPromptTemplate.from_template(template)\n",
    "\n",
    "def get_schema(db):\n",
    "    schema = input_db.get_table_info()\n",
    "    return schema"
   ]
  },
  {
   "cell_type": "markdown",
   "metadata": {},
   "source": [
    "#### 3 Models to Choose From: HuggingFace Mistral, Gemini, and Claude Sonnet"
   ]
  },
  {
   "cell_type": "code",
   "execution_count": 157,
   "metadata": {},
   "outputs": [
    {
     "name": "stderr",
     "output_type": "stream",
     "text": [
      "WARNING! max_length is not default parameter.\n",
      "                    max_length was transferred to model_kwargs.\n",
      "                    Please make sure that max_length is what you intended.\n",
      "WARNING! token is not default parameter.\n",
      "                    token was transferred to model_kwargs.\n",
      "                    Please make sure that token is what you intended.\n"
     ]
    },
    {
     "name": "stdout",
     "output_type": "stream",
     "text": [
      "Token will not been saved to git credential helper. Pass `add_to_git_credential=True` if you want to set the git credential as well.\n",
      "Token is valid (permission: read).\n",
      "Your token has been saved to C:\\Users\\tomce\\.cache\\huggingface\\token\n",
      "Login successful\n"
     ]
    }
   ],
   "source": [
    "repo_id = \"mistralai/Mistral-7B-Instruct-v0.3\"\n",
    "llm = HuggingFaceEndpoint(\n",
    "    repo_id=repo_id, max_length=128, temperature=0.1, token=HUGGINGFACEHUB_API_TOKEN\n",
    ")"
   ]
  },
  {
   "cell_type": "code",
   "execution_count": 150,
   "metadata": {},
   "outputs": [],
   "source": [
    "llm = ChatGoogleGenerativeAI(model=\"gemini-pro\", temperature=0.1)"
   ]
  },
  {
   "cell_type": "code",
   "execution_count": 167,
   "metadata": {},
   "outputs": [],
   "source": [
    "llm = ChatAnthropic(temperature=0, model_name=\"claude-3-sonnet-20240229\")"
   ]
  },
  {
   "cell_type": "markdown",
   "metadata": {},
   "source": [
    "#### Ask Question to Get Query Answer"
   ]
  },
  {
   "cell_type": "code",
   "execution_count": null,
   "metadata": {},
   "outputs": [],
   "source": [
    "sql_chain = (\n",
    "    RunnablePassthrough.assign(schema=get_schema)\n",
    "    | prompt\n",
    "    | llm.bind(stop=[\"\\nSQLResult:\"])\n",
    "    | StrOutputParser()\n",
    ")\n",
    "\n",
    "user_question = 'Can you give me all the phones with a camera that is at least 50MP and the size is at least 6 inches?'\n",
    "smth= sql_chain.invoke({\"features\": features_string,\"question\": user_question})\n",
    "print(smth)\n",
    "output_string = smth.replace(\"```sql\", \"\").replace(\"```\", \"\")\n",
    "print(output_string)"
   ]
  },
  {
   "cell_type": "markdown",
   "metadata": {},
   "source": [
    "#### BELOW: CLAUDE, GOOD QUERY"
   ]
  },
  {
   "cell_type": "code",
   "execution_count": 163,
   "metadata": {},
   "outputs": [
    {
     "name": "stdout",
     "output_type": "stream",
     "text": [
      "Here's the SQL query to find all phones with a camera that is at least 50MP and a screen size of at least 6 inches:\n",
      "\n",
      "```sql\n",
      "SELECT mobile_phones.title\n",
      "FROM mobile_phones\n",
      "JOIN mobile_phone_feature mpf1 ON mobile_phones.id = mpf1.product_id\n",
      "JOIN feature_mobile_phones screen_size ON mpf1.feature_id = screen_size.id\n",
      "JOIN mobile_phone_feature mpf2 ON mobile_phones.id = mpf2.product_id\n",
      "JOIN feature_mobile_phones camera_mp ON mpf2.feature_id = camera_mp.id\n",
      "WHERE screen_size.feature_name = 'screen_size_inches'\n",
      "  AND CAST(screen_size.feature_value AS UNSIGNED) >= 6\n",
      "  AND camera_mp.feature_name LIKE '%primary_wide_camera_mp%'\n",
      "  AND CAST(camera_mp.feature_value AS UNSIGNED) >= 50;\n",
      "```\n",
      "\n",
      "Explanation:\n",
      "\n",
      "1. We join the `mobile_phones` table with the `mobile_phone_feature` and `feature_mobile_phones` tables to access the screen size and camera megapixel information.\n",
      "2. The `WHERE` clause filters the results based on the following conditions:\n",
      "   - `screen_size.feature_name = 'screen_size_inches'` and `CAST(screen_size.feature_value AS UNSIGNED) >= 6` to get phones with a screen size of at least 6 inches.\n",
      "   - `camera_mp.feature_name LIKE '%primary_wide_camera_mp%'` and `CAST(camera_mp.feature_value AS UNSIGNED) >= 50` to get phones with a primary wide camera megapixel count of at least 50MP.\n",
      "3. The `CAST` function is used to convert the `feature_value` column (which is of type `TEXT`) to an unsigned integer for comparison.\n",
      "4. The `LIKE` operator is used to match the `feature_name` column with the pattern `'%primary_wide_camera_mp%'` to find the relevant camera megapixel feature.\n",
      "\n",
      "This query will return the titles of all mobile phones that meet the specified criteria.\n",
      "Here's the SQL query to find all phones with a camera that is at least 50MP and a screen size of at least 6 inches:\n",
      "\n",
      "\n",
      "SELECT mobile_phones.title\n",
      "FROM mobile_phones\n",
      "JOIN mobile_phone_feature mpf1 ON mobile_phones.id = mpf1.product_id\n",
      "JOIN feature_mobile_phones screen_size ON mpf1.feature_id = screen_size.id\n",
      "JOIN mobile_phone_feature mpf2 ON mobile_phones.id = mpf2.product_id\n",
      "JOIN feature_mobile_phones camera_mp ON mpf2.feature_id = camera_mp.id\n",
      "WHERE screen_size.feature_name = 'screen_size_inches'\n",
      "  AND CAST(screen_size.feature_value AS UNSIGNED) >= 6\n",
      "  AND camera_mp.feature_name LIKE '%primary_wide_camera_mp%'\n",
      "  AND CAST(camera_mp.feature_value AS UNSIGNED) >= 50;\n",
      "\n",
      "\n",
      "Explanation:\n",
      "\n",
      "1. We join the `mobile_phones` table with the `mobile_phone_feature` and `feature_mobile_phones` tables to access the screen size and camera megapixel information.\n",
      "2. The `WHERE` clause filters the results based on the following conditions:\n",
      "   - `screen_size.feature_name = 'screen_size_inches'` and `CAST(screen_size.feature_value AS UNSIGNED) >= 6` to get phones with a screen size of at least 6 inches.\n",
      "   - `camera_mp.feature_name LIKE '%primary_wide_camera_mp%'` and `CAST(camera_mp.feature_value AS UNSIGNED) >= 50` to get phones with a primary wide camera megapixel count of at least 50MP.\n",
      "3. The `CAST` function is used to convert the `feature_value` column (which is of type `TEXT`) to an unsigned integer for comparison.\n",
      "4. The `LIKE` operator is used to match the `feature_name` column with the pattern `'%primary_wide_camera_mp%'` to find the relevant camera megapixel feature.\n",
      "\n",
      "This query will return the titles of all mobile phones that meet the specified criteria.\n"
     ]
    }
   ],
   "source": [
    "sql_chain = (\n",
    "    RunnablePassthrough.assign(schema=get_schema)\n",
    "    | prompt\n",
    "    | llm.bind(stop=[\"\\nSQLResult:\"])\n",
    "    | StrOutputParser()\n",
    ")\n",
    "\n",
    "user_question = 'Can you give me all the phones with a camera that is at least 50MP and the size is at least 6 inches?'\n",
    "smth= sql_chain.invoke({\"features\": features_string,\"question\": user_question})\n",
    "print(smth)\n",
    "output_string = smth.replace(\"```sql\", \"\").replace(\"```\", \"\")\n",
    "print(output_string)"
   ]
  },
  {
   "cell_type": "markdown",
   "metadata": {},
   "source": [
    "#### BELOW CLAUDE, GOOD OUTPUT EXCEPT FOR SELECT WITH ERROR THAT TELLS THESE DON'T EXIST : \"feature_mobile_phones.feature_value AS screen_size, feature_mobile_phones.feature_value AS screen_type\""
   ]
  },
  {
   "cell_type": "code",
   "execution_count": 168,
   "metadata": {},
   "outputs": [
    {
     "name": "stdout",
     "output_type": "stream",
     "text": [
      "SELECT mobile_phones.title, feature_mobile_phones.feature_value AS screen_size, feature_mobile_phones.feature_value AS screen_type\n",
      "FROM mobile_phones\n",
      "JOIN mobile_phone_feature AS mpf1 ON mobile_phones.id = mpf1.product_id\n",
      "JOIN feature_mobile_phones AS screen_size ON mpf1.feature_id = screen_size.id\n",
      "JOIN mobile_phone_feature AS mpf2 ON mobile_phones.id = mpf2.product_id\n",
      "JOIN feature_mobile_phones AS screen_type ON mpf2.feature_id = screen_type.id\n",
      "WHERE screen_size.feature_name = 'screen_size_inches'\n",
      "AND CAST(screen_size.feature_value AS UNSIGNED) >= 6\n",
      "AND screen_type.feature_name = 'screen_type'\n",
      "AND screen_type.feature_value LIKE '%OLED%'\n",
      "AND mobile_phones.happy_price < 60000;\n"
     ]
    }
   ],
   "source": [
    "sql_chain = (\n",
    "    RunnablePassthrough.assign(schema=get_schema)\n",
    "    | prompt\n",
    "    | llm.bind(stop=[\"\\nSQLResult:\"])\n",
    "    | StrOutputParser()\n",
    ")\n",
    "\n",
    "user_question = 'Can you give me all the phones with a camera that has an OLED screen and is at least 6 inches and the price is under 60000?'\n",
    "smth= sql_chain.invoke({\"features\": features_string,\"question\": user_question})\n",
    "print(smth)"
   ]
  }
 ],
 "metadata": {
  "kernelspec": {
   "display_name": "myenv",
   "language": "python",
   "name": "python3"
  },
  "language_info": {
   "codemirror_mode": {
    "name": "ipython",
    "version": 3
   },
   "file_extension": ".py",
   "mimetype": "text/x-python",
   "name": "python",
   "nbconvert_exporter": "python",
   "pygments_lexer": "ipython3",
   "version": "3.12.1"
  }
 },
 "nbformat": 4,
 "nbformat_minor": 2
}
