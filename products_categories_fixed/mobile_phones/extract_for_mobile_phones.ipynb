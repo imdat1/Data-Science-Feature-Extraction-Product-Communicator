{
 "cells": [
  {
   "cell_type": "markdown",
   "metadata": {},
   "source": [
    "#### This was a testing feature extractor with a different prompt template, it did not work as intended."
   ]
  },
  {
   "cell_type": "code",
   "execution_count": 1,
   "metadata": {},
   "outputs": [
    {
     "name": "stderr",
     "output_type": "stream",
     "text": [
      "c:\\Users\\tomce\\miniconda3\\envs\\myenv\\Lib\\site-packages\\tqdm\\auto.py:21: TqdmWarning: IProgress not found. Please update jupyter and ipywidgets. See https://ipywidgets.readthedocs.io/en/stable/user_install.html\n",
      "  from .autonotebook import tqdm as notebook_tqdm\n"
     ]
    }
   ],
   "source": [
    "from langchain_core.prompts import ChatPromptTemplate, MessagesPlaceholder\n",
    "from langchain_core.messages import (\n",
    "    HumanMessage,\n",
    ")\n",
    "from typing import List, Optional\n",
    "from langchain_core.pydantic_v1 import BaseModel, Field\n",
    "from langchain.prompts import PromptTemplate\n",
    "from langchain.chains import LLMChain\n",
    "from langchain_community.llms import HuggingFaceEndpoint\n",
    "from dotenv import load_dotenv\n",
    "import os\n",
    "import json\n",
    "from langchain_google_genai import ChatGoogleGenerativeAI\n",
    "from json import JSONDecodeError"
   ]
  },
  {
   "cell_type": "code",
   "execution_count": 2,
   "metadata": {},
   "outputs": [],
   "source": [
    "load_dotenv()\n",
    "GOOGLE_API_KEY = os.getenv(\"GOOGLE_API_KEY\")\n",
    "\n",
    "# Initialize LangChain model\n",
    "llm = ChatGoogleGenerativeAI(model=\"gemini-pro\", token=GOOGLE_API_KEY)"
   ]
  },
  {
   "cell_type": "code",
   "execution_count": 11,
   "metadata": {},
   "outputs": [],
   "source": [
    "text=\"\"\"\n",
    "{\n",
    "    \"url\": \"https://www.neptun.mk/categories/mobilni_telefoni/Nokia-105-Black--1GF019CPA2L03-\",\n",
    "    \"title\": \"NOKIA 105, 1.8\\\", 1000MAH, BLACK\",\n",
    "    \"warranty\": \"24\",\n",
    "    \"regular_price\": \"1.599\",\n",
    "    \"happy_price\": \"\",\n",
    "    \"description\": [\n",
    "        \"Мобилен телефон\\nЕкран:1.8\\\" TFT LCD\\nРезолуција: 160x120pixels, 111ppi, 4:3\\nОтпорност на прав и вода: IP52\\n2G мрежа\\nРадио\\nИзлез за слушалки\\nПолнење: Micro-USB\\nКапацитет на батеријата: 1000mAh\"\n",
    "    ],\n",
    "    \"category\": \"mobilni_telefoni\"\n",
    "}\n",
    "\"\"\""
   ]
  },
  {
   "cell_type": "code",
   "execution_count": 12,
   "metadata": {},
   "outputs": [],
   "source": [
    "prompt_template = \"\"\"\n",
    "Extract the features of the provided product and represent them as separate key-value pairs in a JSON format. Ensure that each feature is listed individually without any lists or dictionaries within the features. If the feature includes a specific attribute (e.g., size, capacity, type, port), include that as well. Make sure you include the url, title, price, happy_price, and warranty as well. Translate everything to English. Return the extracted features as a JSON object.\n",
    "\n",
    "Input:\n",
    "{\n",
    "    \"url\": \"https://www.neptun.mk/categories/mobilni_telefoni/Apple-iPhone-14-128GB-Yellow\",\n",
    "    \"title\": \"APPLE IPHONE 14 128GB YELLOW\",\n",
    "    \"warranty\": \"12\",\n",
    "    \"regular_price\": \"61.990\",\n",
    "    \"happy_price\": \"47.990\",\n",
    "    \"description\": [\n",
    "        \"Мобилен телефон\\niOS 16.0\\nIP68 водоотпорен ( до 6м за 30 мин)\\nApple Pay систем, Поддршка за ултра широк опсег\\nЕкран:6.1\\\" Super Retina XDR OLED\\nРезолуција:1170 x 2532p\\nChipset:Apple A15 Bionic (5 nm)\\nCPU:Hexa-core (2x3.23 GHz Avalanche + 4x1.82 GHz Blizzard)\\nGPU:Apple GPU (5-core graphics)\\nИнтерна меморија:128GB\\nПримарна камера:\\n12 MP, f/1.5, 26mm (wide), 1.9µm, dual pixel PDAF, sensor-shift OIS\\n12 MP, f/2.4, 13mm, 120? (ultrawide)\\nСекундарна камера:\\n12 MP, f/1.9, 23mm (wide), 1/3.6\\\", PDAF\\nSL 3D, (depth/biometrics sensor)\\nWi-Fi 802.11 a/b/g/n/ac/6, dual-band, hotspot\\nBluetooth 5.3, A2DP, LE\\nGPS A-GPS, GLONASS, GALILEO, BDS, QZSS\\nUSB Lightning, USB 2.0\\nFast charging, 50% in 30 min (advertised)\\nUSB Power Delivery 2.0\\nMagSafe wireless charging 15W\\nQi magnetic fast wireless charging 7.5W\\nКапацитет на батерија: 3279mAh\"\n",
    "    ],\n",
    "    \"category\": \"mobilni_telefoni\"\n",
    "}\n",
    "Output:\n",
    "{\n",
    "  \"url\": \"https://www.neptun.mk/categories/mobilni_telefoni/Apple-iPhone-14-128GB-Yellow\",\n",
    "  \"title\": \"APPLE IPHONE 14 128GB YELLOW\",\n",
    "  \"warranty\": \"12\",\n",
    "  \"regular_price\": \"61.990\",\n",
    "  \"happy_price\": \"47.990\",\n",
    "  \"features\": {\n",
    "    \"Product Type\": \"Mobile Phone\",\n",
    "    \"Operating System\": \"iOS 16.0\",\n",
    "    \"Water Resistance\": \"IP68 (up to 6m for 30 mins)\",\n",
    "    \"Payment System\": \"Apple Pay, Ultra-Wideband (UWB) support\",\n",
    "    \"Display Size\": \"6.1\\\" Super Retina XDR OLED\",\n",
    "    \"Resolution\": \"1170 x 2532 pixels\",\n",
    "    \"Chipset\": \"Apple A15 Bionic (5 nm)\",\n",
    "    \"CPU\": \"Hexa-core (2x3.23 GHz Avalanche + 4x1.82 GHz Blizzard)\",\n",
    "    \"GPU\": \"Apple GPU (5-core graphics)\",\n",
    "    \"Internal Memory\": \"128GB\",\n",
    "    \"Primary Camera 1\": \"12 MP, f/1.5, 26mm (wide), 1.9µm, dual pixel PDAF, sensor-shift OIS\",\n",
    "    \"Primary Ultrawide Camera\": \"12 MP, f/2.4, 13mm, 120° (ultrawide)\",\n",
    "    \"Secondary Camera\": \"12 MP, f/1.9, 23mm (wide), 1/3.6\\\", PDAF\",\n",
    "    \"Depth Sensor\": \"SL 3D, (depth/biometrics sensor)\",\n",
    "    \"Wi-Fi\": \"Wi-Fi 802.11 a/b/g/n/ac/6, dual-band, hotspot\",\n",
    "    \"Bluetooth\": \"Bluetooth 5.3, A2DP, LE\",\n",
    "    \"GPS\": \"A-GPS, GLONASS, GALILEO, BDS, QZSS\",\n",
    "    \"USB\": \"Lightning, USB 2.0\",\n",
    "    \"Fast Charging\": \"50% in 30 mins (advertised)\",\n",
    "    \"USB Power Delivery\": \"USB Power Delivery 2.0\",\n",
    "    \"Wireless Charging 1\": \"MagSafe wireless charging 15W\",\n",
    "    \"Wireless Charging 2\": \"Qi magnetic fast wireless charging 7.5W\",\n",
    "    \"Battery Capacity\": \"3279mAh\"\n",
    "  }\n",
    "}\n",
    "\n",
    "Input:\n",
    "{\n",
    "    \"url\": \"https://www.neptun.mk/categories/mobilni_telefoni/SAMSUNG-Galaxy-A23-5G-4-64GB--SM-A236BZWUEUC--White\",\n",
    "    \"title\": \"SAMSUNG GALAXY A23 5G, 6.5\\\", 4/64GB, 5000 MAH (SM-A236BZWUEUC) WHITE\",\n",
    "    \"warranty\": \"24\",\n",
    "    \"regular_price\": \"19.399\",\n",
    "    \"happy_price\": \"9.999\",\n",
    "    \"description\": [\n",
    "        \"Мобилен телефон\\nAndroid 11\\nЕкран:6.5\\\" (720 x 1600) PLS TFT\\nCPU:Octa-core (2x1.6 GHz & 6x1.6 GHz)\\nИнтерна меморија:\\nROM Меморија:64GB\\nRAM Меморија:4GB\\nПримарна камера:\\n48 MP, f/1.8, (wide), AF\\n2 MP, f/2.4, (depth)\\nСекундарна камера:\\n5 MP, f/2.2\\nWi-Fi 802.11 a/b/g/n/ac, dual-band, Wi-Fi Direct, hotspot\\nBluetooth 5.0, A2DP, LE\\nGPS with A-GPS\\nmicroUSB 2.0\\nБатерија:Li-Po 5000 mAh\"\n",
    "    ],\n",
    "    \"category\": \"mobilni_telefoni\"\n",
    "}\n",
    "Output:\n",
    "{\n",
    "  \"url\": \"https://www.neptun.mk/categories/mobilni_telefoni/SAMSUNG-Galaxy-A23-5G-4-64GB--SM-A236BZWUEUC--White\",\n",
    "  \"title\": \"SAMSUNG GALAXY A23 5G, 6.5\\\", 4/64GB, 5000 MAH (SM-A236BZWUEUC) WHITE\",\n",
    "  \"warranty\": \"24\",\n",
    "  \"regular_price\": \"19.399\",\n",
    "  \"happy_price\": \"9.999\",\n",
    "  \"features\": {\n",
    "    \"Product Type\": \"Mobile Phone\",\n",
    "    \"Operating System\": \"Android 11\",\n",
    "    \"Display Size\": \"6.5\\\"\",\n",
    "    \"Resolution\": \"720 x 1600 pixels, PLS TFT\",\n",
    "    \"CPU\": \"Octa-core (2x1.6 GHz & 6x1.6 GHz)\",\n",
    "    \"Internal Memory\": \"64GB\",\n",
    "    \"RAM\": \"4GB\",\n",
    "    \"Primary Camera 1\": \"48 MP, f/1.8, (wide), AF\",\n",
    "    \"Primary Depth Camera\": \"2 MP, f/2.4, (depth)\",\n",
    "    \"Secondary Camera\": \"5 MP, f/2.2\",\n",
    "    \"Wi-Fi\": \"Wi-Fi 802.11 a/b/g/n/ac, dual-band, Wi-Fi Direct, hotspot\",\n",
    "    \"Bluetooth\": \"Bluetooth 5.0, A2DP, LE\",\n",
    "    \"GPS\": \"A-GPS\",\n",
    "    \"USB\": \"microUSB 2.0\",\n",
    "    \"Battery\": \"Li-Po 5000 mAh\"\n",
    "  }\n",
    "}\n",
    "\n",
    "\n",
    "Input:\n",
    "{\n",
    "    \"url\": \"https://www.neptun.mk/categories/mobilni_telefoni/Xiaomi-Redmi-Note-12-Pro-8-256GB-Graphite-Gray\",\n",
    "    \"title\": \"XIAOMI REDMI NOTE 12 PRO 6.67\\\", 8/256GB, 108+8+5+2/16MP, 5000 MAH, GRAPHITE GRAY\",\n",
    "    \"warranty\": \"24\",\n",
    "    \"regular_price\": \"20.999\",\n",
    "    \"happy_price\": \"14.999\",\n",
    "    \"description\": [\n",
    "        \"Мобилен телефон\\nAndroid 12, MIUI 13\\nЕкран:6.67\\\" (1080 x 2400) AMOLED, 120Hz\\nCorning Gorilla Glass 5\\nОтпорност на вода:IP53\\nQualcomm SM7150 Snapdragon 732G (8 nm)\\nOcta-core (2x2.3 GHz Kryo 470 Gold & 6x1.8 GHz Kryo 470 Silver)\\nAdreno 618\\nИнтерна меморија:\\nROM Меморија:256GB\\nRAM Меморија:8GB\\nПримарна камера:\\n108 MP, f/1.9, 1/1.52\\\", 0.7µm, PDAF, (wide)\\n8 MP, f/1.9, 119?, 1/4\\\", 1.12µm, (ultrawide)\\n5 MP, f/2.4, (macro)\\n2 MP, f/2.4, (depth)\\nСекундарна камера:\\n16 MP, 1/3.06\\\", 1.0µm, (wide)\\nWi-Fi 802.11 a/b/g/n/ac, dual-band\\nBluetooth 5.1, A2DP, LE\\nGPS (L1), GLONASS (G1), BDS (B1I+B1c), GALILEO (E1), QZSS (L1)\\nUSB Type-C 2.0, OTG\\nFast charging 67W wired\\nБатерија:Li-Po 5000 mAh\"\n",
    "    ],\n",
    "    \"category\": \"mobilni_telefoni\"\n",
    "}\n",
    "Output:\n",
    "{\n",
    "  \"url\": \"https://www.neptun.mk/categories/mobilni_telefoni/Xiaomi-Redmi-Note-12-Pro-8-256GB-Graphite-Gray\",\n",
    "  \"title\": \"XIAOMI REDMI NOTE 12 PRO 6.67\\\", 8/256GB, 108+8+5+2/16MP, 5000 MAH, GRAPHITE GRAY\",\n",
    "  \"warranty\": \"24\",\n",
    "  \"regular_price\": \"20.999\",\n",
    "  \"happy_price\": \"14.999\",\n",
    "  \"features\": {\n",
    "    \"Product Type\": \"Mobile Phone\",\n",
    "    \"Operating System\": \"Android 12, MIUI 13\",\n",
    "    \"Display Size\": \"6.67\\\"\",\n",
    "    \"Resolution\": \"1080 x 2400 pixels, AMOLED, 120Hz\",\n",
    "    \"Display Protection\": \"Corning Gorilla Glass 5\",\n",
    "    \"Water Resistance\": \"IP53\",\n",
    "    \"Chipset\": \"Qualcomm SM7150 Snapdragon 732G (8 nm)\",\n",
    "    \"CPU\": \"Octa-core (2x2.3 GHz Kryo 470 Gold & 6x1.8 GHz Kryo 470 Silver)\",\n",
    "    \"GPU\": \"Adreno 618\",\n",
    "    \"Internal Memory\": \"256GB\",\n",
    "    \"RAM\": \"8GB\",\n",
    "    \"Primary Camera 1\": \"108 MP, f/1.9, 1/1.52\\\", 0.7µm, PDAF, (wide)\",\n",
    "    \"Primary Ultrawide Camera\": \"8 MP, f/1.9, 119°, 1/4\\\", 1.12µm, (ultrawide)\",\n",
    "    \"Primary Macro Camera\": \"5 MP, f/2.4, (macro)\",\n",
    "    \"Primary Depth Camera\": \"2 MP, f/2.4, (depth)\",\n",
    "    \"Secondary Camera\": \"16 MP, 1/3.06\\\", 1.0µm, (wide)\",\n",
    "    \"Wi-Fi\": \"Wi-Fi 802.11 a/b/g/n/ac, dual-band\",\n",
    "    \"Bluetooth\": \"Bluetooth 5.1, A2DP, LE\",\n",
    "    \"GPS\": \"GPS (L1), GLONASS (G1), BDS (B1I+B1c), GALILEO (E1), QZSS (L1)\",\n",
    "    \"USB\": \"Type-C 2.0, OTG\",\n",
    "    \"Fast Charging\": \"67W wired\",\n",
    "    \"Battery\": \"Li-Po 5000 mAh\"\n",
    "  }\n",
    "}\n",
    "\n",
    "Provided product:\n",
    "{{text}}\n",
    "\"\"\"\n",
    "prompt = PromptTemplate(template=prompt_template, input_variables=[\"text\"], template_format=\"jinja2\")\n",
    "chain = LLMChain(llm=llm, prompt=prompt)"
   ]
  },
  {
   "cell_type": "code",
   "execution_count": 13,
   "metadata": {},
   "outputs": [
    {
     "name": "stdout",
     "output_type": "stream",
     "text": [
      "Output:\n",
      "{\n",
      "  \"url\": \"https://www.neptun.mk/categories/mobilni_telefoni/Nokia-105-Black--1GF019CPA2L03-\",\n",
      "  \"title\": \"NOKIA 105, 1.8\", 1000MAH, BLACK\",\n",
      "  \"warranty\": \"24\",\n",
      "  \"regular_price\": \"1.599\",\n",
      "  \"features\": {\n",
      "    \"Product Type\": \"Mobile Phone\",\n",
      "    \"Display Size\": \"1.8\\\"\",\n",
      "    \"Display Type\": \"TFT LCD\",\n",
      "    \"Resolution\": \"160x120 pixels, 111ppi, 4:3\",\n",
      "    \"Water and Dust Resistance\": \"IP52\",\n",
      "    \"Network\": \"2G\",\n",
      "    \"Radio\": \"Yes\",\n",
      "    \"Headphone Jack\": \"Yes\",\n",
      "    \"Charging Port\": \"Micro-USB\",\n",
      "    \"Battery Capacity\": \"1000mAh\"\n",
      "  }\n",
      "}\n"
     ]
    }
   ],
   "source": [
    "structured_data = chain.invoke({\"text\": text})\n",
    "\n",
    "print(structured_data['text'])"
   ]
  },
  {
   "cell_type": "code",
   "execution_count": 15,
   "metadata": {},
   "outputs": [],
   "source": [
    "# Directory containing JSON files\n",
    "input_directory = r\"C:\\Users\\tomce\\OneDrive - UKIM, FINKI\\Desktop\\Fakultet 3ta Godina\\2 Sesti Semestar\\0 DATA SCIENCE SEMINARSKA\\1 Starting Over\\products_with_categories\\mobilni_telefoni\"\n",
    "# Directory to save processed JSON files\n",
    "output_directory = r\"C:\\Users\\tomce\\OneDrive - UKIM, FINKI\\Desktop\\Fakultet 3ta Godina\\2 Sesti Semestar\\0 DATA SCIENCE SEMINARSKA\\1 Starting Over\\products_categories_fixed\\mobile_phones\\mobile_phones_gemini\"\n",
    "\n",
    "# Create the output directory if it doesn't exist\n",
    "os.makedirs(output_directory, exist_ok=True)"
   ]
  },
  {
   "cell_type": "code",
   "execution_count": 16,
   "metadata": {},
   "outputs": [
    {
     "name": "stdout",
     "output_type": "stream",
     "text": [
      "Processed JSON files are saved in C:\\Users\\tomce\\OneDrive - UKIM, FINKI\\Desktop\\Fakultet 3ta Godina\\2 Sesti Semestar\\0 DATA SCIENCE SEMINARSKA\\1 Starting Over\\products_categories_fixed\\mobile_phones\\mobile_phones_gemini\n"
     ]
    }
   ],
   "source": [
    "# Loop through all files in the input directory\n",
    "for filename in os.listdir(input_directory):\n",
    "    if filename.endswith('.json'):\n",
    "        input_filepath = os.path.join(input_directory, filename)\n",
    "        \n",
    "        # Open and read each JSON file\n",
    "        with open(input_filepath, 'r', encoding='utf-8') as file:\n",
    "            data = json.load(file)\n",
    "            text = json.dumps(data)\n",
    "            \n",
    "            # Process the JSON data using the LangChain model\n",
    "            structured_data = chain.invoke({\"text\": text})\n",
    "            if 'text' in structured_data:\n",
    "                try:\n",
    "                    structured_data = json.loads(structured_data['text'])\n",
    "                except JSONDecodeError:\n",
    "                    continue\n",
    "            \n",
    "            # Determine the output file path\n",
    "            output_filename = f\"processed_{filename}\"\n",
    "            output_filepath = os.path.join(output_directory, output_filename)\n",
    "            \n",
    "            # Write the processed data to the output file\n",
    "            with open(output_filepath, 'w', encoding='utf-8') as outfile:\n",
    "                json.dump(structured_data, outfile, indent=4)\n",
    "\n",
    "print(f\"Processed JSON files are saved in {output_directory}\")"
   ]
  },
  {
   "cell_type": "markdown",
   "metadata": {},
   "source": [
    "#### Vagja outputs so features{} emtpy"
   ]
  },
  {
   "cell_type": "markdown",
   "metadata": {},
   "source": [
    "#### For Single File:"
   ]
  },
  {
   "cell_type": "code",
   "execution_count": 20,
   "metadata": {},
   "outputs": [
    {
     "name": "stdout",
     "output_type": "stream",
     "text": [
      "Processed JSON file saved to C:\\Users\\tomce\\OneDrive - UKIM, FINKI\\Desktop\\Fakultet 3ta Godina\\2 Sesti Semestar\\0 DATA SCIENCE SEMINARSKA\\1 Starting Over\\products_categories_fixed\\mobile_phones\\processed_Apple-iPhone-15-Pro-Max-256GB-Natural-Titanium.json\n"
     ]
    }
   ],
   "source": [
    "# Specify the input and output file paths\n",
    "input_file = r\"C:\\Users\\tomce\\OneDrive - UKIM, FINKI\\Desktop\\Fakultet 3ta Godina\\2 Sesti Semestar\\0 DATA SCIENCE SEMINARSKA\\1 Starting Over\\products_categories_fixed\\mobile_phones\\mobile_phones_gemini\\processed_Apple-iPhone-15-Pro-Max-256GB-Natural-Titanium.json\"\n",
    "output_file = r\"C:\\Users\\tomce\\OneDrive - UKIM, FINKI\\Desktop\\Fakultet 3ta Godina\\2 Sesti Semestar\\0 DATA SCIENCE SEMINARSKA\\1 Starting Over\\products_categories_fixed\\mobile_phones\\processed_Apple-iPhone-15-Pro-Max-256GB-Natural-Titanium.json\"\n",
    "\n",
    "# Open and read the input JSON file\n",
    "with open(input_file, 'r', encoding='utf-8') as file:\n",
    "    data = json.load(file)\n",
    "    text = json.dumps(data)\n",
    "\n",
    "    # Process the JSON data using the LangChain model\n",
    "    structured_data = chain.invoke({\"text\": text})\n",
    "    \n",
    "    # Write the processed data to the output file\n",
    "    with open(output_file, 'w', encoding='utf-8') as outfile:\n",
    "        json.dump(structured_data, outfile, indent=4)\n",
    "\n",
    "print(f\"Processed JSON file saved to {output_file}\")\n"
   ]
  },
  {
   "cell_type": "code",
   "execution_count": 21,
   "metadata": {},
   "outputs": [
    {
     "name": "stdout",
     "output_type": "stream",
     "text": [
      "{\n",
      "  \"url\": \"https://www.neptun.mk/categories/mobilni_telefoni/Apple-iPhone-15-Pro-Max-256GB-Natural-Titanium\",\n",
      "  \"title\": \"IPHONE 15 PRO MAX 256GB NATURAL TITANIUM\",\n",
      "  \"warranty\": \"12\",\n",
      "  \"regular_price\": \"97.490\",\n",
      "  \"happy_price\": \"87.990\",\n",
      "  \"features\": {}\n",
      "}\n"
     ]
    }
   ],
   "source": [
    "print(structured_data['text'])"
   ]
  },
  {
   "cell_type": "code",
   "execution_count": null,
   "metadata": {},
   "outputs": [],
   "source": []
  }
 ],
 "metadata": {
  "kernelspec": {
   "display_name": "myenv",
   "language": "python",
   "name": "python3"
  },
  "language_info": {
   "codemirror_mode": {
    "name": "ipython",
    "version": 3
   },
   "file_extension": ".py",
   "mimetype": "text/x-python",
   "name": "python",
   "nbconvert_exporter": "python",
   "pygments_lexer": "ipython3",
   "version": "3.12.1"
  }
 },
 "nbformat": 4,
 "nbformat_minor": 2
}
