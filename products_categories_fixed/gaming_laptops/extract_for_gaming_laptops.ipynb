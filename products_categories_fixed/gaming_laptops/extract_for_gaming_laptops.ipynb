{
 "cells": [
  {
   "cell_type": "markdown",
   "metadata": {},
   "source": [
    "#### This was a testing feature extractor with a different prompt template, it did not work as intended."
   ]
  },
  {
   "cell_type": "code",
   "execution_count": 1,
   "metadata": {},
   "outputs": [
    {
     "name": "stderr",
     "output_type": "stream",
     "text": [
      "c:\\Users\\tomce\\miniconda3\\envs\\myenv\\Lib\\site-packages\\tqdm\\auto.py:21: TqdmWarning: IProgress not found. Please update jupyter and ipywidgets. See https://ipywidgets.readthedocs.io/en/stable/user_install.html\n",
      "  from .autonotebook import tqdm as notebook_tqdm\n"
     ]
    }
   ],
   "source": [
    "from langchain_core.prompts import ChatPromptTemplate, MessagesPlaceholder\n",
    "from langchain_core.messages import (\n",
    "    HumanMessage,\n",
    ")\n",
    "from typing import List, Optional\n",
    "from langchain_core.pydantic_v1 import BaseModel, Field\n",
    "from langchain.prompts import PromptTemplate\n",
    "from langchain.chains import LLMChain\n",
    "from langchain_community.llms import HuggingFaceEndpoint\n",
    "from dotenv import load_dotenv\n",
    "import os\n",
    "import json\n",
    "from langchain_google_genai import ChatGoogleGenerativeAI"
   ]
  },
  {
   "cell_type": "code",
   "execution_count": 3,
   "metadata": {},
   "outputs": [
    {
     "data": {
      "text/plain": [
       "True"
      ]
     },
     "execution_count": 3,
     "metadata": {},
     "output_type": "execute_result"
    }
   ],
   "source": [
    "load_dotenv()"
   ]
  },
  {
   "cell_type": "code",
   "execution_count": 2,
   "metadata": {},
   "outputs": [],
   "source": [
    "HUGGINGFACEHUB_API_TOKEN = os.getenv(\"HUGGINGFACEHUB_API_TOKEN\")"
   ]
  },
  {
   "cell_type": "code",
   "execution_count": 25,
   "metadata": {},
   "outputs": [],
   "source": [
    "GOOGLE_API_KEY = os.getenv(\"GOOGLE_API_KEY\")\n",
    "\n",
    "# Initialize LangChain model\n",
    "llm = ChatGoogleGenerativeAI(model=\"gemini-pro\", token=GOOGLE_API_KEY)"
   ]
  },
  {
   "cell_type": "code",
   "execution_count": null,
   "metadata": {},
   "outputs": [],
   "source": [
    "text=\"\""
   ]
  },
  {
   "cell_type": "code",
   "execution_count": 42,
   "metadata": {},
   "outputs": [],
   "source": [
    "prompt_template = \"\"\"\n",
    "Extract the features of the provided product and represent them as separate key-value pairs in a JSON format. Ensure that each feature is listed individually without any lists or dictionaries within the features. If the feature includes a specific attribute (e.g., size, capacity, type, port), include that as well. Make sure you include the url, title, price, happy_price, and warranty as well. Translate everything to English. Return the extracted features as a JSON object.\n",
    "\n",
    "Input:\n",
    "{\n",
    "  \"url\": \"https://www.neptun.mk/categories/gaming_laptopi/LENOVO-IdeaPad-Gaming-3-15ACH6-R5-5500H-16GB-512GB-RTX-2050-4GB\",\n",
    "  \"title\": \"\",\n",
    "  \"warranty\": \"24\",\n",
    "  \"regular_price\": \"39.999\",\n",
    "  \"happy_price\": \"36.999\",\n",
    "  \"description\": [\n",
    "    \"Лаптоп\",\n",
    "    \"Дисплеј:15.6\\\" (39.6cm)\",\n",
    "    \"Резолуција:(1920x1080) FHD, IPS 250nits Anti-glare, 45% NTSC, 60Hz\",\n",
    "    \"Chipset: AMD SoC Platform\",\n",
    "    \"Процесор:AMD Ryzen™ 5 5500H (4C / 8T, 3.3 / 4.2GHz, 2MB L2 / 8MB L3)\",\n",
    "    \"Графичка:NVIDIA® GeForce RTX™ 2050 4GB GDDR6\",\n",
    "    \"RAM меморија:16GB DDR4-3200\",\n",
    "    \"Диск (Storage):512GB SSD M.2 2242 PCIe® 4.0x4 NVMe®\",\n",
    "    \"Без оперативен систем\",\n",
    "    \"WLAN + Bluetooth: 11ac 2x2 + BT5.0\",\n",
    "    \"Камера:HD 720p with Privacy Shutter\",\n",
    "    \"Аудио: High Definition (HD) Audio, Realtek® ALC3287 codec\",\n",
    "    \"Звучници: Stereo speakers, 2W x2, Nahimic Audio\",\n",
    "    \"Микрофон:2x, Array\",\n",
    "    \"Тастатура: White Backlit, English\",\n",
    "    \"Wireless:Wi-Fi® 6, 11ax 2x2 + BT5.1\",\n",
    "    \"Порти:\",\n",
    "    \"2x USB 3.2 Gen 1\",\n",
    "    \"1x USB-C® 3.2 Gen 1 (support data transfer only)\",\n",
    "    \"1x HDMI® 2.0\",\n",
    "    \"1x Headphone / microphone combo jack (3.5mm)\",\n",
    "    \"1x Ethernet (RJ-45)\",\n",
    "    \"1x Power connector\",\n",
    "    \"Батерија: Integrated 45Wh\",\n",
    "    \"Power Adapter: 135W Slim Tip (3-pin)\"\n",
    "  ],\n",
    "  \"category\": \"gaming_laptopi\"\n",
    "}\n",
    "Output:\n",
    "{\n",
    "  \"url\": \"https://www.neptun.mk/categories/gaming_laptopi/LENOVO-IdeaPad-Gaming-3-15ACH6-R5-5500H-16GB-512GB-RTX-2050-4GB\",\n",
    "  \"title\": \"\",\n",
    "  \"regular_price\": \"39.999\",\n",
    "  \"happy_price\": \"36.999\",\n",
    "  \"warranty\": \"24\",\n",
    "  \"features\": {\n",
    "    \"Display\": \"15.6\\\" (39.6cm)\",\n",
    "    \"Resolution\": \"1920x1080 FHD, IPS 250nits Anti-glare\",\n",
    "    \"Chipset\": \"AMD SoC Platform\",\n",
    "    \"Processor\": \"AMD Ryzen™ 5 5500H (4C / 8T, 3.3 / 4.2GHz, 2MB L2 / 8MB L3)\",\n",
    "    \"Graphics\": \"NVIDIA® GeForce RTX™ 2050 4GB GDDR6\",\n",
    "    \"RAM\": \"16GB DDR4-3200\",\n",
    "    \"Storage\": \"512GB SSD M.2 2242 PCIe® 4.0x4 NVMe®\",\n",
    "    \"Operating System\": \"Без оперативен систем\",\n",
    "    \"Wireless\": \"Wi-Fi® 6, 11ax 2x2 + BT5.1\",\n",
    "    \"Camera\": \"HD 720p with Privacy Shutter\",\n",
    "    \"Audio\": \"High Definition (HD) Audio, Realtek® ALC3287 codec\",\n",
    "    \"Speakers\": \"Stereo speakers, 2W x2, Nahimic Audio\",\n",
    "    \"Microphone\": \"2x, Array\",\n",
    "    \"Keyboard\": \"White Backlit, English\",\n",
    "    \"Headset Port\": \"1 x Headset (headphone and microphone combo) port\",\n",
    "    \"RJ45 Ethernet Port\": \"1 x RJ45 Ethernet port\",\n",
    "    \"USB Ports\": \"3 x USB 3.2 Gen 1 ports\",\n",
    "    \"HDMI Port\": \"1 x HDMI 2.0 port\",\n",
    "    \"USB-C Port\": \"1 x USB-C 3.2 Gen 1 port (support data transfer only)\",\n",
    "    \"Battery\": \"Integrated 45Wh\",\n",
    "    \"Power Adapter\": \"135W Slim Tip (3-pin)\",\n",
    "    \"Display Port\": false\n",
    "  }\n",
    "}\n",
    "Input:\n",
    "{\n",
    "  \"url\": \"https://www.neptun.mk/categories/gaming_laptopi/ACER-AN515-57-53A7-i5-11400H-8GB-512B-RTX-3050-4GB\",\n",
    "  \"title\": \"ЛАПТОП ACER AN515-57-53A7 I5-11400H/8GB/512B/RTX 3050 4GB\",\n",
    "  \"warranty\": \"24\",\n",
    "  \"regular_price\": \"55.999\",\n",
    "  \"happy_price\": \"47.999\",\n",
    "  \"description\": [\n",
    "    \"Лаптоп\",\n",
    "    \"Дисплеј:15.6\\\" (39.6cm)\",\n",
    "    \"Резолуција:(1920 x 1080) FHD IPS 144Hz\",\n",
    "    \"Процесор:Intel® Core i5-11400H 2.70 GHz Hexa-core\",\n",
    "    \"Графика:NVIDIA® GeForce RTX 3050 4GB\",\n",
    "    \"RAM меморија:8GB DDR4\",\n",
    "    \"Диск (Storage):512GB SSD\",\n",
    "    \"LAN:IEEE 802.11 a/b/g/n/ac/ax\",\n",
    "    \"Gigabit Ethernet\",\n",
    "    \"Bluetooth 5.2\",\n",
    "    \"Микрофон\",\n",
    "    \"Оперативен систем:UEFI Shell\",\n",
    "    \"Порти:\",\n",
    "    \"HDMI, USB, LAN, Type C\",\n",
    "    \"Батерија:4-cell (Li-Ion) - 8h\"\n",
    "  ],\n",
    "  \"category\": \"gaming_laptopi\"\n",
    "}\n",
    "Output:\n",
    "{\n",
    "  \"url\": \"https://www.neptun.mk/categories/gaming_laptopi/ACER-AN515-57-53A7-i5-11400H-8GB-512B-RTX-3050-4GB\",\n",
    "  \"title\": \"ЛАПТОП ACER AN515-57-53A7 I5-11400H/8GB/512B/RTX 3050 4GB\",\n",
    "  \"regular_price\": \"55.999\",\n",
    "  \"happy_price\": \"47.999\",\n",
    "  \"warranty\": \"24\",\n",
    "  \"features\": {\n",
    "    \"Display\": \"15.6\\\" (39.6cm)\",\n",
    "    \"Resolution\": \"1920 x 1080 FHD IPS 144Hz\",\n",
    "    \"Processor\": \"Intel® Core i5-11400H 2.70 GHz Hexa-core\",\n",
    "    \"Graphics\": \"NVIDIA® GeForce RTX 3050 4GB\",\n",
    "    \"RAM\": \"8GB DDR4\",\n",
    "    \"Storage\": \"512GB SSD\",\n",
    "    \"LAN\": \"IEEE 802.11 a/b/g/n/ac/ax, Gigabit Ethernet\",\n",
    "    \"Bluetooth\": \"5.2\",\n",
    "    \"Microphone\": true,\n",
    "    \"Operating System\": \"UEFI Shell\",\n",
    "    \"HDMI Port\": \"1 x HDMI port\",\n",
    "    \"USB Port\": \"1 x USB port\",\n",
    "    \"LAN Port\": \"1 x LAN port\",\n",
    "    \"Type C Port\": \"1 x Type C port\",\n",
    "    \"Battery\": \"4-cell (Li-Ion) - 8h\"\n",
    "  }\n",
    "}\n",
    "\n",
    "Input:\n",
    "{\n",
    "\"url\": \"https://www.neptun.mk/categories/gaming_laptopi/DELL-G15-5530-i5-13450HX-16GB-DDR5-512GB-RTX-3050-6GB\",\n",
    "\"title\": \"ЛАПТОП DELL G15 5530 I5-13450HX/16GB DDR5/512GB/RTX 3050 6GB\",\n",
    "\"warranty\": \"36\",\n",
    "\"regular_price\": \"69.999\",\n",
    "\"happy_price\": \"62.999\",\n",
    "\"description\": [\n",
    "\"Лаптоп\",\n",
    "\"Дисплеј:15.6\" (39.6cm)\",\n",
    "\"Резолуција: (1920 x 1080) FHD 120Hz 250 nits WVA Anti- Glare LED Backlit Narrow Border Display\",\n",
    "\"Процесор:13th Gen Intel® Core™ i5-13450HX (20 MB cache, 10 cores, 16 threads, up to 4.60 GHz Turbo)\",\n",
    "\"Графика:NVIDIA® GeForce RTX™ 3050, 6 GB GDDR6\",\n",
    "\"RAM Меморија: 16 GB: 2 x 8 GB, DDR5, 4800 MT/s\",\n",
    "\"Диск (Storage): 512 GB, M.2, PCIe NVMe, SSD\",\n",
    "\"Wi-Fi 6 AX201, 2x2, 802.11ax, Bluetooth® 5.2\",\n",
    "\"Камера:Integrated widescreen HD (720p) Webcam with Single Array Digital Microphone\",\n",
    "\"Порти:\",\n",
    "\"1 x Headset (headphone and microphone combo) port\",\n",
    "\"1 x RJ45 Ethernet port\",\n",
    "\"3 x USB 3.2 Gen 1 ports\",\n",
    "\"1 x HDMI 2.1 port\",\n",
    "\"1 x USB-C 3.2 Gen 2 port with DisplayPort™\",\n",
    "\"Батерија: 3 Cell, 56 Wh, integrated\",\n",
    "\"Полнач: 240W AC Adapter\",\n",
    "\"Позадинско осветлување на тастатурата (backlit keyboard)\",\n",
    "\"Carbon BlackDark Shadow Gray with Black thermal shelf\"\n",
    "],\n",
    "\"category\": \"gaming_laptopi\"\n",
    "}\n",
    "Output:\n",
    "{\n",
    "  \"url\": \"https://www.neptun.mk/categories/gaming_laptopi/DELL-G15-5530-i5-13450HX-16GB-DDR5-512GB-RTX-3050-6GB\",\n",
    "  \"title\": \"ЛАПТОП DELL G15 5530 I5-13450HX/16GB DDR5/512GB/RTX 3050 6GB\",\n",
    "  \"warranty\": \"36\",\n",
    "  \"regular_price\": \"69.999\",\n",
    "  \"happy_price\": \"62.999\",\n",
    "  \"features\": {\n",
    "    \"Display\": \"15.6\\\" (39.6cm)\",\n",
    "    \"Resolution\": \"(1920 x 1080) FHD 120Hz 250 nits WVA Anti-Glare LED Backlit Narrow Border Display\",\n",
    "    \"Processor\": \"13th Gen Intel® Core™ i5-13450HX (20 MB cache, 10 cores, 16 threads, up to 4.60 GHz Turbo)\",\n",
    "    \"Graphics\": \"NVIDIA® GeForce RTX™ 3050, 6 GB GDDR6\",\n",
    "    \"RAM\": \"16 GB: 2 x 8 GB, DDR5, 4800 MT/s\",\n",
    "    \"Storage\": \"512 GB, M.2, PCIe NVMe, SSD\",\n",
    "    \"Wireless\": \"Wi-Fi 6 AX201, 2x2, 802.11ax, Bluetooth® 5.2\",\n",
    "    \"Camera\": \"Integrated widescreen HD (720p) Webcam with Single Array Digital Microphone\",\n",
    "    \"Headset Port\": \"1 x Headset (headphone and microphone combo) port\",\n",
    "    \"RJ45 Ethernet Port\": \"1 x RJ45 Ethernet port\",\n",
    "    \"USB Ports\": \"3 x USB 3.2 Gen 1 ports\",\n",
    "    \"HDMI Port\": \"1 x HDMI 2.1 port\",\n",
    "    \"USB-C Port\": \"1 x USB-C 3.2 Gen 2 port™\",\n",
    "    \"Display Port\": \"Yes\",\n",
    "    \"Battery\": \"3 Cell, 56 Wh, integrated\",\n",
    "    \"Power Adapter\": \"240W AC Adapter\",\n",
    "    \"Backlit Keyboard\": \"Pozadinsko осветлување на тастатурата (backlit keyboard)\",\n",
    "    \"Color\": \"Carbon BlackDark Shadow Gray with Black thermal shelf\"\n",
    "  }\n",
    "}\n",
    "Provided product:\n",
    "{{text}}\n",
    "\"\"\"\n",
    "prompt = PromptTemplate(template=prompt_template, input_variables=[\"text\"], template_format=\"jinja2\")\n",
    "chain = LLMChain(llm=llm, prompt=prompt)"
   ]
  },
  {
   "cell_type": "code",
   "execution_count": 29,
   "metadata": {},
   "outputs": [
    {
     "name": "stdout",
     "output_type": "stream",
     "text": [
      "```json\n",
      "{\n",
      "  \"url\": \"https://www.neptun.mk/categories/gaming_laptopi/HP-Victus-15-fa1026nn-i7-13700H-16GB-512GB-RTX-4050-6GB\",\n",
      "  \"title\": \"ЛАПТОП HP VICTUS 15-FA1026NN I7-13700H/16GB/512GB/RTX 4050 6GB\",\n",
      "  \"warranty\": \"24\",\n",
      "  \"regular_price\": \"72.999\",\n",
      "  \"happy_price\": \"68.999\",\n",
      "  \"features\": {\n",
      "    \"Display\": \"15.6\\\" (39.6cm)\",\n",
      "    \"Resolution\": \"(1920 x 1080) FHD IPS 144Hz, 250 nits, 45% NTSC, 9ms\",\n",
      "    \"Processor\": \"Intel® Core™ i7-13700H (up to 5.0 GHz with Intel® Turbo Boost Technology, 24 MB L3 cache, 14 cores, 20 threads)\",\n",
      "    \"Graphics\": \"NVIDIA® GeForce RTX™ 4050 6GB GDDR6\",\n",
      "    \"RAM\": \"16 GB DDR4-3200 MHz (2 x 8 GB)\",\n",
      "    \"Storage\": \"512 GB PCIe® Gen4 NVMe™ M.2 SSD\",\n",
      "    \"Wireless\": \"Wi-Fi 6 MT7921 (2x2) + Bluetooth® 5.3\",\n",
      "    \"Camera\": \"HP True Vision 1080p FHD camera with temporal noise reduction and integrated dual array digital microphones\",\n",
      "    \"Audio\": \"Audio by B&O; Dual speakers; HP Audio Boost\",\n",
      "    \"LAN\": \"10/100/1000 GbE LAN\",\n",
      "    \"USB Ports\": \"3 x USB Type-A ports (2 x 5Gbps signaling rate, 1 x 5Gbps signaling rate (HP Sleep and Charge))\",\n",
      "    \"USB-C Port\": \"1 x USB Type-C® port (5Gbps signaling rate (DisplayPort™ 1.4, HP Sleep and Charge))\",\n",
      "    \"HDMI Port\": \"1 x HDMI 2.1 port\",\n",
      "    \"RJ45 Ethernet Port\": \"1 x RJ-45 port\",\n",
      "    \"Headset Port\": \"1 x headphone/microphone combo port\",\n",
      "    \"Power Adapter\": \"200 W Smart AC power adapter\",\n",
      "    \"Battery\": \"4-cell, 70 Wh Li-ion polymer\"\n",
      "  }\n",
      "}\n",
      "```\n"
     ]
    }
   ],
   "source": [
    "structured_data = chain.invoke({\"text\": text})\n",
    "\n",
    "print(structured_data['text'])"
   ]
  },
  {
   "cell_type": "code",
   "execution_count": 33,
   "metadata": {},
   "outputs": [],
   "source": [
    "# Directory containing JSON files\n",
    "input_directory = r\"C:\\Users\\tomce\\OneDrive - UKIM, FINKI\\Desktop\\Fakultet 3ta Godina\\2 Sesti Semestar\\0 DATA SCIENCE SEMINARSKA\\1 Starting Over\\products_with_categories\\gaming_laptopi\"\n",
    "# Directory to save processed JSON files\n",
    "output_directory = r\"C:\\Users\\tomce\\OneDrive - UKIM, FINKI\\Desktop\\Fakultet 3ta Godina\\2 Sesti Semestar\\0 DATA SCIENCE SEMINARSKA\\1 Starting Over\\gaming_laptops_gemini_testing\"\n",
    "\n",
    "# Create the output directory if it doesn't exist\n",
    "os.makedirs(output_directory, exist_ok=True)"
   ]
  },
  {
   "cell_type": "code",
   "execution_count": 45,
   "metadata": {},
   "outputs": [],
   "source": [
    "from json import JSONDecodeError"
   ]
  },
  {
   "cell_type": "code",
   "execution_count": 46,
   "metadata": {},
   "outputs": [
    {
     "name": "stdout",
     "output_type": "stream",
     "text": [
      "Processed JSON files are saved in C:\\Users\\tomce\\OneDrive - UKIM, FINKI\\Desktop\\Fakultet 3ta Godina\\2 Sesti Semestar\\0 DATA SCIENCE SEMINARSKA\\1 Starting Over\\gaming_laptops_gemini_testing\n"
     ]
    }
   ],
   "source": [
    "# Loop through all files in the input directory\n",
    "for filename in os.listdir(input_directory):\n",
    "    if filename.endswith('.json'):\n",
    "        input_filepath = os.path.join(input_directory, filename)\n",
    "        \n",
    "        # Open and read each JSON file\n",
    "        with open(input_filepath, 'r', encoding='utf-8') as file:\n",
    "            data = json.load(file)\n",
    "            text = json.dumps(data)\n",
    "            \n",
    "            # Process the JSON data using the LangChain model\n",
    "            structured_data = chain.invoke({\"text\": text})\n",
    "            if 'text' in structured_data:\n",
    "                try:\n",
    "                    structured_data = json.loads(structured_data['text'])\n",
    "                except JSONDecodeError:\n",
    "                    continue\n",
    "            \n",
    "            # Determine the output file path\n",
    "            output_filename = f\"processed_{filename}\"\n",
    "            output_filepath = os.path.join(output_directory, output_filename)\n",
    "            \n",
    "            # Write the processed data to the output file\n",
    "            with open(output_filepath, 'w', encoding='utf-8') as outfile:\n",
    "                json.dump(structured_data, outfile, indent=4)\n",
    "\n",
    "print(f\"Processed JSON files are saved in {output_directory}\")"
   ]
  }
 ],
 "metadata": {
  "kernelspec": {
   "display_name": "myenv",
   "language": "python",
   "name": "python3"
  },
  "language_info": {
   "codemirror_mode": {
    "name": "ipython",
    "version": 3
   },
   "file_extension": ".py",
   "mimetype": "text/x-python",
   "name": "python",
   "nbconvert_exporter": "python",
   "pygments_lexer": "ipython3",
   "version": "3.12.1"
  }
 },
 "nbformat": 4,
 "nbformat_minor": 2
}
