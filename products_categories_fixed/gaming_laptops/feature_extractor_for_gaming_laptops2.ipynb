{
 "cells": [
  {
   "cell_type": "code",
   "execution_count": 1,
   "metadata": {},
   "outputs": [
    {
     "name": "stderr",
     "output_type": "stream",
     "text": [
      "c:\\Users\\tomce\\miniconda3\\envs\\myenv\\Lib\\site-packages\\tqdm\\auto.py:21: TqdmWarning: IProgress not found. Please update jupyter and ipywidgets. See https://ipywidgets.readthedocs.io/en/stable/user_install.html\n",
      "  from .autonotebook import tqdm as notebook_tqdm\n"
     ]
    }
   ],
   "source": [
    "from langchain_core.prompts import ChatPromptTemplate, MessagesPlaceholder\n",
    "from langchain_core.messages import (\n",
    "    HumanMessage,\n",
    ")\n",
    "from typing import List, Optional\n",
    "from langchain_core.pydantic_v1 import BaseModel, Field\n",
    "from langchain.prompts import PromptTemplate\n",
    "from langchain.chains import LLMChain\n",
    "from langchain_community.llms import HuggingFaceEndpoint\n",
    "from dotenv import load_dotenv\n",
    "import os\n",
    "import json\n",
    "from langchain_google_genai import ChatGoogleGenerativeAI\n",
    "from json import JSONDecodeError\n",
    "import sys\n",
    "import stat"
   ]
  },
  {
   "cell_type": "markdown",
   "metadata": {},
   "source": [
    "#### Load up Gemini API"
   ]
  },
  {
   "cell_type": "code",
   "execution_count": 2,
   "metadata": {},
   "outputs": [],
   "source": [
    "load_dotenv()\n",
    "GOOGLE_API_KEY = os.getenv(\"GOOGLE_API_KEY\")\n",
    "\n",
    "# Initialize LangChain model\n",
    "llm = ChatGoogleGenerativeAI(model=\"gemini-pro\", token=GOOGLE_API_KEY)"
   ]
  },
  {
   "cell_type": "markdown",
   "metadata": {},
   "source": [
    "#### Read up Template"
   ]
  },
  {
   "cell_type": "code",
   "execution_count": 25,
   "metadata": {},
   "outputs": [],
   "source": [
    "pat_dir = r\"C:\\Users\\tomce\\OneDrive - UKIM, FINKI\\Desktop\\Fakultet 3ta Godina\\2 Sesti Semestar\\0 DATA SCIENCE SEMINARSKA\\1 Starting Over\\products_categories_fixed\\gaming_laptops\\templates\\template2.txt\"\n",
    "\n",
    "os.chmod(pat_dir, stat.S_IREAD | stat.S_IWRITE)\n",
    "\n",
    "with open(pat_dir, \"r\") as f: template = f.read()"
   ]
  },
  {
   "cell_type": "markdown",
   "metadata": {},
   "source": [
    "#### Example Text"
   ]
  },
  {
   "cell_type": "code",
   "execution_count": 26,
   "metadata": {},
   "outputs": [],
   "source": [
    "text=\"\"\"\n",
    "{\n",
    "    \"url\": \"https://www.neptun.mk/categories/gaming_laptopi/ASUS-ROG-Zephyrus-G14-GA403UI-QS048W-14--OLED-R9-8945HS-16GB-DDR5X-1TB-RTX-4070-8GB-WIN11\",\n",
    "    \"title\": \"\",\n",
    "    \"warranty\": \"24\",\n",
    "    \"regular_price\": \"139.999\",\n",
    "    \"happy_price\": \"129.999\",\n",
    "    \"description\": [\n",
    "        \"Лаптоп\\nДисплеј: 14\\\" (39.6cm)\\nРезолуција:(2880 x 1800) 3К, OLED, 120Hz, 0.2ms, 500 nits, 16:10\\nПроцесор:AMD Ryzen™ 9 8945HS, 4GHz (24MB Cache, up to 5.2 GHz, 8 cores, 16 Threads)\\nГрафика:NVIDIA GeForce RTX 4070 8GB GDDR6\\nRAM меморија:16GB DDR5X\\nДиск (Storage):1TB M.2 2280 PCIe Gen4 SSD\\nОперативен систем:Windows 11 Home\\nWi-Fi 6E(802.11ax) (Triple band) 2*2 + Bluetooth 5.3\\nПорти:\\n1x Type C USB 4 support DisplayPort    / power delivery\\n1x USB 3.2 Gen 2 Type-C support DisplayPor\\n2x USB 3.2 Gen 2 Type-A\\n1x card reader (microSD) (UHS-II)\\n1x HDMI 2.1 FRL\\n1x 3.5mm Combo Audio Jack\\nВгадени 3 микрофони\\nBacklit Chiclet Keyboard 1-Zone RGB\\n4x звучници (4-speaker (dual force woofer) system with Smart Amplifier Technology)\\nАудио:Tech AI noise-canceling - Dolby Atmos\\nHi-Res certification\\nSmart Amp Technology\\nSecurity BIOS Administrator Password and User Password Protection\\nБатерија:73WHrs, 4S1P, 4-cell Li-ion\"\n",
    "    ],\n",
    "    \"category\": \"gaming_laptopi\"\n",
    "}\n",
    "\"\"\""
   ]
  },
  {
   "cell_type": "markdown",
   "metadata": {},
   "source": [
    "#### Create Prompt Template for Gemini"
   ]
  },
  {
   "cell_type": "code",
   "execution_count": 27,
   "metadata": {},
   "outputs": [],
   "source": [
    "prompt_template = \"\"\"\n",
    "{{tmplate}}\n",
    "\n",
    "You need to extract the features of the provided product:\n",
    "{{text}}\n",
    "\"\"\"\n",
    "prompt = PromptTemplate(template=prompt_template, input_variables=[\"template\",\"text\"], template_format=\"jinja2\")\n",
    "chain = LLMChain(llm=llm, prompt=prompt)"
   ]
  },
  {
   "cell_type": "markdown",
   "metadata": {},
   "source": [
    "#### Testing Feature Extraction for Single Product Text "
   ]
  },
  {
   "cell_type": "code",
   "execution_count": 13,
   "metadata": {},
   "outputs": [
    {
     "name": "stdout",
     "output_type": "stream",
     "text": [
      "{\n",
      "    \"url\": \"https://www.neptun.mk/categories/gaming_laptopi/ASUS-ROG-Zephyrus-G14-GA403UI-QS048W-14--OLED-R9-8945HS-16GB-DDR5X-1TB-RTX-4070-8GB-WIN11\",\n",
      "    \"title\": \"ASUS ROG Zephyrus G14 GA403UI-QS048W\",\n",
      "    \"warranty_months\": 24,\n",
      "    \"regular_price_mkd\": 139999,\n",
      "    \"happy_price_mkd\": 129999,\n",
      "    \"category\": \"gaming_laptopi\",\n",
      "    \"features\":{\n",
      "        \"device_type\": \"Gaming Laptop\",\n",
      "        \"description\": \"Лаптоп\\nДисплеј: 14\\\" (39.6cm)\\nРезолуција:(2880 x 1800) 3К, OLED, 120Hz, 0.2ms, 500 nits, 16:10\\nПроцесор:AMD Ryzen™ 9 8945HS, 4GHz (24MB Cache, up to 5.2 GHz, 8 cores, 16 Threads)\\nГрафика:NVIDIA GeForce RTX 4070 8GB GDDR6\\nRAM меморија:16GB DDR5X\\nДиск (Storage):1TB M.2 2280 PCIe Gen4 SSD\\nОперативен систем:Windows 11 Home\\nWi-Fi 6E(802.11ax) (Triple band) 2*2 + Bluetooth 5.3\\nПорти:\\n1x Type C USB 4 support DisplayPort    / power delivery\\n1x USB 3.2 Gen 2 Type-C support DisplayPor\\n2x USB 3.2 Gen 2 Type-A\\n1x card reader (microSD) (UHS-II)\\n1x HDMI 2.1 FRL\\n1x 3.5mm Combo Audio Jack\\nВгадени 3 микрофони\\nBacklit Chiclet Keyboard 1-Zone RGB\\n4x звучници (4-speaker (dual force woofer) system with Smart Amplifier Technology)\\nАудио:Tech AI noise-canceling - Dolby Atmos\\nHi-Res certification\\nSmart Amp Technology\\nSecurity BIOS Administrator Password and User Password Protection\\nБатерија:73WHrs, 4S1P, 4-cell Li-ion\",\n",
      "        \"screen_size_inches\": 14,\n",
      "        \"screen_resolution\": \"2880 x 1800\",\n",
      "        \"screen_type\": \"OLED\",\n",
      "        \"screen_refresh_rate_hz\": 120,\n",
      "        \"screen_response_time_ms\": 0.2,\n",
      "        \"screen_brightness_nits\": 500,\n",
      "        \"screen_aspect_ratio\": \"16:10\",\n",
      "        \"processor_model\": \"AMD Ryzen™ 9 8945HS\",\n",
      "        \"processor_cores\": 8,\n",
      "        \"processor_threads\": 16,\n",
      "        \"processor_base_clock_ghz\": 4,\n",
      "        \"processor_max_clock_ghz\": 5.2,\n",
      "        \"processor_cache_mb\": 24,\n",
      "        \"gpu_model\": \"NVIDIA GeForce RTX 4070\",\n",
      "        \"gpu_memory_gb\": 8,\n",
      "        \"ram_size_gb\": 16,\n",
      "        \"ram_type\": \"DDR5X\",\n",
      "        \"storage_size_tb\": 1,\n",
      "        \"storage_type\": \"M.2 2280 PCIe Gen4 SSD\",\n",
      "        \"operating_system\": \"Windows 11 Home\",\n",
      "        \"wifi_standard\": \"Wi-Fi 6E(802.11ax) (Triple band)\",\n",
      "        \"bluetooth_version\": 5.3,\n",
      "        \"port_1_type\": \"Type C USB 4 support DisplayPort / power delivery\",\n",
      "        \"port_2_type\": \"USB 3.2 Gen 2 Type-C support DisplayPort\",\n",
      "        \"port_3_type\": \"USB 3.2 Gen 2 Type-A\",\n",
      "        \"port_4_type\": \"card reader (microSD) (UHS-II)\",\n",
      "        \"port_5_type\": \"HDMI 2.1 FRL\",\n",
      "        \"port_6_type\": \"3.5mm Combo Audio Jack\",\n",
      "        \"port_7_type\": null,\n",
      "        \"keyboard_type\": \"Backlit Chiclet Keyboard 1-Zone RGB\",\n",
      "        \"audio_feature_1\": \"4-speaker (dual force woofer) system with Smart Amplifier Technology\",\n",
      "        \"audio_feature_2\": \"Tech AI noise-canceling - Dolby Atmos\",\n",
      "        \"audio_feature_3\": \"Hi-Res certification\",\n",
      "        \"battery_capacity_wh\": 73,\n",
      "        \"battery_cells\": 4,\n",
      "        \"included_software_1\": \"Smart Amp Technology\",\n",
      "        \"included_software_2\": \"BIOS Administrator Password and User Password Protection\",\n",
      "        \"included_software_3\": null,\n",
      "        \"security_feature_1\": \"BIOS Administrator Password\",\n",
      "        \"security_feature_2\": \"User Password Protection\"\n",
      "    }\n",
      "}\n"
     ]
    }
   ],
   "source": [
    "structured_data = chain.invoke({\"tmplate\": template, \"text\": text})\n",
    "\n",
    "print(structured_data['text'])"
   ]
  },
  {
   "cell_type": "markdown",
   "metadata": {},
   "source": [
    "#### Extract All Features of All Products of Gaming Laptops Category"
   ]
  },
  {
   "cell_type": "code",
   "execution_count": 28,
   "metadata": {},
   "outputs": [],
   "source": [
    "# Directory containing JSON files\n",
    "input_directory = r\"C:\\Users\\tomce\\OneDrive - UKIM, FINKI\\Desktop\\Fakultet 3ta Godina\\2 Sesti Semestar\\0 DATA SCIENCE SEMINARSKA\\1 Starting Over\\products_with_categories\\gaming_laptopi\"\n",
    "# Directory to save processed JSON files\n",
    "output_directory = r\"C:\\Users\\tomce\\OneDrive - UKIM, FINKI\\Desktop\\Fakultet 3ta Godina\\2 Sesti Semestar\\0 DATA SCIENCE SEMINARSKA\\1 Starting Over\\products_categories_fixed\\gaming_laptops\\gaming_laptops_new_template\"\n",
    "\n",
    "# Create the output directory if it doesn't exist\n",
    "os.makedirs(output_directory, exist_ok=True)"
   ]
  },
  {
   "cell_type": "code",
   "execution_count": 29,
   "metadata": {},
   "outputs": [
    {
     "name": "stdout",
     "output_type": "stream",
     "text": [
      "Processed JSON files are saved in C:\\Users\\tomce\\OneDrive - UKIM, FINKI\\Desktop\\Fakultet 3ta Godina\\2 Sesti Semestar\\0 DATA SCIENCE SEMINARSKA\\1 Starting Over\\products_categories_fixed\\gaming_laptops\\gaming_laptops_new_template\n"
     ]
    }
   ],
   "source": [
    "# Loop through all files in the input directory\n",
    "for filename in os.listdir(input_directory):\n",
    "    if filename.endswith('.json'):\n",
    "        input_filepath = os.path.join(input_directory, filename)\n",
    "        \n",
    "        # Open and read each JSON file\n",
    "        with open(input_filepath, 'r', encoding='utf-8') as file:\n",
    "            data = json.load(file)\n",
    "            text = json.dumps(data)\n",
    "            \n",
    "            # Process the JSON data using the LangChain model\n",
    "            structured_data = chain.invoke({\"tmplate\": template, \"text\": text})\n",
    "            if 'text' in structured_data:\n",
    "                try:\n",
    "                    structured_data = json.loads(structured_data['text'])\n",
    "                except JSONDecodeError:\n",
    "                    continue\n",
    "            \n",
    "            # Determine the output file path\n",
    "            output_filename = f\"processed_{filename}\"\n",
    "            output_filepath = os.path.join(output_directory, output_filename)\n",
    "            \n",
    "            # Write the processed data to the output file\n",
    "            with open(output_filepath, 'w', encoding='utf-8') as outfile:\n",
    "                json.dump(structured_data, outfile, indent=4)\n",
    "\n",
    "print(f\"Processed JSON files are saved in {output_directory}\")"
   ]
  },
  {
   "cell_type": "code",
   "execution_count": null,
   "metadata": {},
   "outputs": [],
   "source": []
  }
 ],
 "metadata": {
  "kernelspec": {
   "display_name": "myenv",
   "language": "python",
   "name": "python3"
  },
  "language_info": {
   "codemirror_mode": {
    "name": "ipython",
    "version": 3
   },
   "file_extension": ".py",
   "mimetype": "text/x-python",
   "name": "python",
   "nbconvert_exporter": "python",
   "pygments_lexer": "ipython3",
   "version": "3.12.1"
  }
 },
 "nbformat": 4,
 "nbformat_minor": 2
}
