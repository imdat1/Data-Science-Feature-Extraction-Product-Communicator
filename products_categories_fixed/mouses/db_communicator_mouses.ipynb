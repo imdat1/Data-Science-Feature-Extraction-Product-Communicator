{
 "cells": [
  {
   "cell_type": "code",
   "execution_count": 1,
   "metadata": {},
   "outputs": [
    {
     "name": "stderr",
     "output_type": "stream",
     "text": [
      "c:\\Users\\tomce\\miniconda3\\envs\\myenv\\Lib\\site-packages\\tqdm\\auto.py:21: TqdmWarning: IProgress not found. Please update jupyter and ipywidgets. See https://ipywidgets.readthedocs.io/en/stable/user_install.html\n",
      "  from .autonotebook import tqdm as notebook_tqdm\n"
     ]
    }
   ],
   "source": [
    "import sqlite3\n",
    "import json\n",
    "import os\n",
    "from langchain_core.prompts import ChatPromptTemplate\n",
    "from langchain_core.output_parsers import StrOutputParser\n",
    "from langchain_core.runnables import RunnablePassthrough\n",
    "from langchain_google_genai import ChatGoogleGenerativeAI\n",
    "from langchain import SQLDatabase\n",
    "from dotenv import load_dotenv, find_dotenv\n",
    "import sys\n",
    "import stat\n",
    "from langchain_community.llms import HuggingFaceEndpoint\n",
    "from langchain_anthropic import ChatAnthropic"
   ]
  },
  {
   "cell_type": "markdown",
   "metadata": {},
   "source": [
    "#### Load up API Keys"
   ]
  },
  {
   "cell_type": "code",
   "execution_count": 2,
   "metadata": {},
   "outputs": [],
   "source": [
    "load_dotenv(find_dotenv())\n",
    "HUGGINGFACEHUB_API_TOKEN = os.getenv(\"HUGGINGFACEHUB_API_TOKEN\")\n",
    "\n",
    "ANTHROPIC_API_KEY = os.getenv(\"ANTHROPIC_API_KEY\")\n",
    "\n",
    "GOOGLE_API_KEY = os.getenv(\"GOOGLE_API_KEY\")"
   ]
  },
  {
   "cell_type": "markdown",
   "metadata": {},
   "source": [
    "#### Create Database File for Mouses"
   ]
  },
  {
   "cell_type": "code",
   "execution_count": 3,
   "metadata": {},
   "outputs": [],
   "source": [
    "# Function to create database and tables\n",
    "def create_database():\n",
    "    conn = sqlite3.connect('product_database_mouses.db')\n",
    "    c = conn.cursor()\n",
    "\n",
    "    # Create products table\n",
    "    c.execute('''CREATE TABLE IF NOT EXISTS mouses (\n",
    "                    id INTEGER PRIMARY KEY,\n",
    "                    url TEXT,\n",
    "                    title TEXT,\n",
    "                    warranty INTEGER,\n",
    "                    regular_price REAL,\n",
    "                    happy_price REAL,\n",
    "                    category TEXT\n",
    "                 )''')\n",
    "\n",
    "    # Create feature_products table\n",
    "    c.execute('''CREATE TABLE IF NOT EXISTS feature_mouses (\n",
    "                    id INTEGER PRIMARY KEY,\n",
    "                    feature_name TEXT,\n",
    "                    feature_value TEXT\n",
    "                 )''')\n",
    "\n",
    "    # Create product_feature table\n",
    "    c.execute('''CREATE TABLE IF NOT EXISTS mouse_feature (\n",
    "                    product_id INTEGER,\n",
    "                    feature_id INTEGER,\n",
    "                    FOREIGN KEY (product_id) REFERENCES mouses(id),\n",
    "                    FOREIGN KEY (feature_id) REFERENCES feature_mouses(id)\n",
    "                 )''')\n",
    "\n",
    "    conn.commit()\n",
    "    conn.close()\n",
    "\n",
    "# Function to insert product data into database\n",
    "def insert_product_data(product_data):\n",
    "    conn = sqlite3.connect('product_database_mouses.db')\n",
    "    c = conn.cursor()\n",
    "\n",
    "    # Insert product data into products table\n",
    "    c.execute('''INSERT INTO mouses (url, title, warranty, regular_price, happy_price, category)\n",
    "                 VALUES (?, ?, ?, ?, ?, ?)''', (\n",
    "                    product_data.get('url'),\n",
    "                    product_data.get('title'),\n",
    "                    product_data.get('warranty_months'),\n",
    "                    product_data.get('regular_price_mkd'),\n",
    "                    product_data.get('happy_price_mkd'),\n",
    "                    product_data.get('category')\n",
    "                 ))\n",
    "    product_id = c.lastrowid\n",
    "\n",
    "    # Insert feature data into feature_gaming_laptops table and product_feature table\n",
    "    for feature, value in product_data.get('features', {}).items():\n",
    "        # Check if feature already exists\n",
    "        c.execute('''SELECT id FROM feature_mouses WHERE feature_name = ? AND feature_value = ?''', (feature, value))\n",
    "        feature_row = c.fetchone()\n",
    "        if feature_row:\n",
    "            feature_id = feature_row[0]\n",
    "        else:\n",
    "            c.execute('''INSERT INTO feature_mouses (feature_name, feature_value) VALUES (?, ?)''', (feature, value))\n",
    "            feature_id = c.lastrowid\n",
    "\n",
    "        # Insert into product_feature table\n",
    "        c.execute('''INSERT INTO mouse_feature (product_id, feature_id) VALUES (?, ?)''',\n",
    "                  (product_id, feature_id))\n",
    "\n",
    "    conn.commit()\n",
    "    conn.close()\n",
    "\n",
    "# Function to read JSON files from a directory and insert data into database\n",
    "def process_json_files(directory):\n",
    "    for filename in os.listdir(directory):\n",
    "        if filename.endswith('.json'):\n",
    "            with open(os.path.join(directory, filename), 'r') as file:\n",
    "                product_data = json.load(file)\n",
    "                insert_product_data(product_data)\n",
    "\n",
    "# Create database and tables\n",
    "create_database()\n",
    "\n",
    "# Process JSON files and insert data into database\n",
    "json_directory = r'C:\\Users\\tomce\\OneDrive - UKIM, FINKI\\Desktop\\Fakultet 3ta Godina\\2 Sesti Semestar\\0 DATA SCIENCE SEMINARSKA\\1 Starting Over\\products_categories_fixed\\mouses\\mouses_new_template'\n",
    "process_json_files(json_directory)\n"
   ]
  },
  {
   "cell_type": "markdown",
   "metadata": {},
   "source": [
    "#### Get All \"feature_name=feature_value\" pairs for each key-value "
   ]
  },
  {
   "cell_type": "code",
   "execution_count": null,
   "metadata": {},
   "outputs": [],
   "source": [
    "def get_features_string(db_path):\n",
    "    # Connect to the SQLite database\n",
    "    conn = sqlite3.connect(db_path)\n",
    "    cursor = conn.cursor()\n",
    "    \n",
    "    # Query to select all features\n",
    "    cursor.execute(\"SELECT feature_name, feature_value FROM feature_mouses WHERE feature_value IS NOT NULL\")\n",
    "    \n",
    "    # Fetch all rows from the executed query\n",
    "    features = cursor.fetchall()\n",
    "    \n",
    "    # Close the database connection\n",
    "    conn.close()\n",
    "    \n",
    "    # Format the features into the desired string format\n",
    "    features_string = \", \".join([f\"{name}={value}\" for name, value in features])\n",
    "    \n",
    "    return features_string\n",
    "\n",
    "# Example usage\n",
    "db_path = 'product_database_mouses.db'\n",
    "features_string = get_features_string(db_path)\n",
    "print(features_string)"
   ]
  },
  {
   "cell_type": "markdown",
   "metadata": {},
   "source": [
    "#### Connect with Database File"
   ]
  },
  {
   "cell_type": "code",
   "execution_count": 14,
   "metadata": {},
   "outputs": [],
   "source": [
    "conn = sqlite3.connect('product_database_mouses.db')\n",
    "c = conn.cursor()\n",
    "input_db = SQLDatabase.from_uri('sqlite:///product_database_mouses.db')"
   ]
  },
  {
   "cell_type": "markdown",
   "metadata": {},
   "source": [
    "#### Chat Prompt Template for Communicating With Mouses"
   ]
  },
  {
   "cell_type": "code",
   "execution_count": 5,
   "metadata": {},
   "outputs": [],
   "source": [
    "template = \"\"\"Based on the table schema below, write a SQL query that would answer the user's question:\n",
    "{schema}\n",
    "\n",
    "Please note that in the schema, the regular_price is the normal price, while the happy_price is a discounted one.\n",
    "Table Descriptions:\n",
    "mouses Table:\n",
    "id: An integer representing the unique identifier for each mouse product.\n",
    "url: A text field to store the URL of the product.\n",
    "title: A text field for the product title.\n",
    "warranty: An integer field representing the warranty duration (in months).\n",
    "regular_price: A real number field for the regular price of the mouse.\n",
    "happy_price: A real number field for the discounted price (if available).\n",
    "category: A text field to categorize the mouse product (e.g., ‘Gaming’, ‘Office’, etc.).\n",
    "\n",
    "feature_mouses Table:\n",
    "id: An integer representing the unique identifier for each feature.\n",
    "feature_name: A text field describing a specific feature (e.g., ‘Wireless’, ‘Ergonomic’, etc.).\n",
    "feature_value: A text field containing the value of the feature (e.g., ‘Yes’, ‘No’, ‘1200 DPI’, etc.).\n",
    "\n",
    "mouse_feature Table:\n",
    "product_id: An integer representing the foreign key reference to the id field in the Mouses Table.\n",
    "feature_id: An integer representing the foreign key reference to the id field in the Feature Mouses Table.\n",
    "\n",
    "Example input for questions asking for multiple features: 'What OLED TVs are there that have a display bigger than 60 inches?'\n",
    "Example output for questions asking for multiple features:\n",
    "'SELECT tvs.title, screen_size.feature_value, screen_type.feature_value \n",
    "FROM tvs\n",
    "JOIN tv_feature AS tvf1 ON tvs.id = tvf1.product_id\n",
    "JOIN feature_tvs AS screen_size ON tvf1.feature_id = screen_size.id\n",
    "JOIN tv_feature AS tvf2 ON tvs.id = tvf2.product_id\n",
    "JOIN feature_tvs AS screen_type ON tvf2.feature_id = screen_type.id\n",
    "WHERE screen_size.feature_name = 'screen_size_inches'\n",
    "AND CAST(screen_size.feature_value AS INTEGER) >= 60\n",
    "AND screen_type.feature_name = 'panel_type'\n",
    "AND screen_type.feature_value LIKE '%OLED%';'\n",
    "Don't include a feature in the query if the user doesn't ask for it.\n",
    "\n",
    "You ABSOLUTELY MUST use the ‘LIKE’ operator instead of ‘=’ in the SQL query for columns in the tables that are of TEXT value.\n",
    "You ABSOLUTELY MUST use the ‘=’ operator instead of ‘LIKE’ in the SQL query for columns in the tables that are of REAL, DOUBLE, or INTEGER value.\n",
    "Here are all the features a user might ask for:\n",
    "{features}\n",
    "Question: {question}\n",
    "SQL Query:\n",
    "\"\"\"\n",
    "prompt = ChatPromptTemplate.from_template(template)\n",
    "\n",
    "def get_schema(db):\n",
    "    schema = input_db.get_table_info()\n",
    "    return schema"
   ]
  },
  {
   "cell_type": "markdown",
   "metadata": {},
   "source": [
    "#### 3 Models to Choose From: HuggingFace Mistral, Gemini, and Claude Sonnet"
   ]
  },
  {
   "cell_type": "code",
   "execution_count": 17,
   "metadata": {},
   "outputs": [
    {
     "name": "stderr",
     "output_type": "stream",
     "text": [
      "WARNING! token is not default parameter.\n",
      "                    token was transferred to model_kwargs.\n",
      "                    Please make sure that token is what you intended.\n"
     ]
    },
    {
     "name": "stdout",
     "output_type": "stream",
     "text": [
      "Token will not been saved to git credential helper. Pass `add_to_git_credential=True` if you want to set the git credential as well.\n",
      "Token is valid (permission: read).\n",
      "Your token has been saved to C:\\Users\\tomce\\.cache\\huggingface\\token\n",
      "Login successful\n"
     ]
    }
   ],
   "source": [
    "repo_id = \"mistralai/Mistral-7B-Instruct-v0.3\"\n",
    "llm = HuggingFaceEndpoint(\n",
    "    repo_id=repo_id, temperature=0.1, token=HUGGINGFACEHUB_API_TOKEN\n",
    ")"
   ]
  },
  {
   "cell_type": "code",
   "execution_count": 19,
   "metadata": {},
   "outputs": [],
   "source": [
    "llm = ChatGoogleGenerativeAI(model=\"gemini-pro\", temperature=0.5)"
   ]
  },
  {
   "cell_type": "code",
   "execution_count": 11,
   "metadata": {},
   "outputs": [],
   "source": [
    "llm = ChatAnthropic(temperature=0, model_name=\"claude-3-sonnet-20240229\")"
   ]
  },
  {
   "cell_type": "markdown",
   "metadata": {},
   "source": [
    "#### Ask Question to Get Query Answer"
   ]
  },
  {
   "cell_type": "code",
   "execution_count": 18,
   "metadata": {},
   "outputs": [
    {
     "name": "stdout",
     "output_type": "stream",
     "text": [
      "```\n",
      "SELECT mouses.title, weight_grams.feature_value\n",
      "FROM mouses\n",
      "JOIN mouse_feature AS mf1 ON mouses.id = mf1.product_id\n",
      "JOIN feature_mouses AS weight_grams ON mf1.feature_id = weight_grams.id\n",
      "WHERE weight_grams.feature_name = 'weight_grams'\n",
      "AND CAST(weight_grams.feature_value AS INTEGER) < 80\n",
      "AND connection_type.feature_name = 'connection_type'\n",
      "AND connection_type.feature_value LIKE '%Wireless%';\n",
      "```\n",
      "Explanation:\n",
      "- We are selecting the title and weight_grams columns from the mouses table.\n",
      "- We are joining the mouse_feature table with the mouses table using the product_id and feature_id foreign keys.\n",
      "- We are joining the feature_mouses table with the mouse_feature table using the feature_id foreign key.\n",
      "- We are filtering the results based on the user's question. We are checking if the weight_grams column is less than 80 and if the connection_type column contains the word 'Wireless'.\n",
      "- We are using the CAST function to convert the weight_grams column from text to an integer for comparison.\n",
      "- We are using the LIKE operator to match the connection_type column with the word 'Wireless' since it is a text value.\n",
      "\n",
      "SELECT mouses.title, weight_grams.feature_value\n",
      "FROM mouses\n",
      "JOIN mouse_feature AS mf1 ON mouses.id = mf1.product_id\n",
      "JOIN feature_mouses AS weight_grams ON mf1.feature_id = weight_grams.id\n",
      "WHERE weight_grams.feature_name = 'weight_grams'\n",
      "AND CAST(weight_grams.feature_value AS INTEGER) < 80\n",
      "AND connection_type.feature_name = 'connection_type'\n",
      "AND connection_type.feature_value LIKE '%Wireless%';\n",
      "\n",
      "Explanation:\n",
      "- We are selecting the title and weight_grams columns from the mouses table.\n",
      "- We are joining the mouse_feature table with the mouses table using the product_id and feature_id foreign keys.\n",
      "- We are joining the feature_mouses table with the mouse_feature table using the feature_id foreign key.\n",
      "- We are filtering the results based on the user's question. We are checking if the weight_grams column is less than 80 and if the connection_type column contains the word 'Wireless'.\n",
      "- We are using the CAST function to convert the weight_grams column from text to an integer for comparison.\n",
      "- We are using the LIKE operator to match the connection_type column with the word 'Wireless' since it is a text value.\n"
     ]
    }
   ],
   "source": [
    "sql_chain = (\n",
    "    RunnablePassthrough.assign(schema=get_schema)\n",
    "    | prompt\n",
    "    | llm.bind(stop=[\"\\nSQLResult:\"])\n",
    "    | StrOutputParser()\n",
    ")\n",
    "\n",
    "user_question = 'What wireless mouses are there that weight less than 80 grams?'\n",
    "smth= sql_chain.invoke({\"features\": features_string,\"question\": user_question})\n",
    "print(smth)\n",
    "output_string = smth.replace(\"```sql\", \"\").replace(\"```\", \"\")\n",
    "print(output_string)"
   ]
  },
  {
   "cell_type": "markdown",
   "metadata": {},
   "source": [
    "### BELOW CLAUDE (BEST)"
   ]
  },
  {
   "cell_type": "code",
   "execution_count": 12,
   "metadata": {},
   "outputs": [
    {
     "name": "stdout",
     "output_type": "stream",
     "text": [
      "To find wireless mouses that weigh less than 80 grams, we can use the following SQL query:\n",
      "\n",
      "```sql\n",
      "SELECT m.title, m.regular_price, m.happy_price, f1.feature_value AS connection_type, f2.feature_value AS weight_grams\n",
      "FROM mouses m\n",
      "JOIN mouse_feature mf1 ON m.id = mf1.product_id\n",
      "JOIN feature_mouses f1 ON mf1.feature_id = f1.id AND f1.feature_name LIKE '%connection_type%' AND f1.feature_value LIKE '%Wireless%'\n",
      "JOIN mouse_feature mf2 ON m.id = mf2.product_id\n",
      "JOIN feature_mouses f2 ON mf2.feature_id = f2.id AND f2.feature_name LIKE '%weight_grams%' AND CAST(f2.feature_value AS REAL) < 80;\n",
      "```\n",
      "\n",
      "Here's a breakdown of the query:\n",
      "\n",
      "1. We select the `title`, `regular_price`, `happy_price`, `connection_type`, and `weight_grams` columns from the relevant tables.\n",
      "2. We join the `mouses` table with the `mouse_feature` and `feature_mouses` tables to get the connection type and weight information.\n",
      "3. For the connection type, we use the `LIKE` operator to match any feature name containing 'connection_type' and any feature value containing 'Wireless'.\n",
      "4. For the weight, we use the `LIKE` operator to match any feature name containing 'weight_grams', and we use the `CAST` function to convert the `feature_value` to a `REAL` data type. We then filter for weights less than 80 grams.\n",
      "\n",
      "This query will return all wireless mouses that weigh less than 80 grams, along with their titles, regular prices, happy prices, connection types, and weights.\n",
      "To find wireless mouses that weigh less than 80 grams, we can use the following SQL query:\n",
      "\n",
      "\n",
      "SELECT m.title, m.regular_price, m.happy_price, f1.feature_value AS connection_type, f2.feature_value AS weight_grams\n",
      "FROM mouses m\n",
      "JOIN mouse_feature mf1 ON m.id = mf1.product_id\n",
      "JOIN feature_mouses f1 ON mf1.feature_id = f1.id AND f1.feature_name LIKE '%connection_type%' AND f1.feature_value LIKE '%Wireless%'\n",
      "JOIN mouse_feature mf2 ON m.id = mf2.product_id\n",
      "JOIN feature_mouses f2 ON mf2.feature_id = f2.id AND f2.feature_name LIKE '%weight_grams%' AND CAST(f2.feature_value AS REAL) < 80;\n",
      "\n",
      "\n",
      "Here's a breakdown of the query:\n",
      "\n",
      "1. We select the `title`, `regular_price`, `happy_price`, `connection_type`, and `weight_grams` columns from the relevant tables.\n",
      "2. We join the `mouses` table with the `mouse_feature` and `feature_mouses` tables to get the connection type and weight information.\n",
      "3. For the connection type, we use the `LIKE` operator to match any feature name containing 'connection_type' and any feature value containing 'Wireless'.\n",
      "4. For the weight, we use the `LIKE` operator to match any feature name containing 'weight_grams', and we use the `CAST` function to convert the `feature_value` to a `REAL` data type. We then filter for weights less than 80 grams.\n",
      "\n",
      "This query will return all wireless mouses that weigh less than 80 grams, along with their titles, regular prices, happy prices, connection types, and weights.\n"
     ]
    }
   ],
   "source": [
    "sql_chain = (\n",
    "    RunnablePassthrough.assign(schema=get_schema)\n",
    "    | prompt\n",
    "    | llm.bind(stop=[\"\\nSQLResult:\"])\n",
    "    | StrOutputParser()\n",
    ")\n",
    "\n",
    "user_question = 'What wireless mouses are there that weight less than 80 grams?'\n",
    "smth= sql_chain.invoke({\"features\": features_string,\"question\": user_question})\n",
    "print(smth)\n",
    "output_string = smth.replace(\"```sql\", \"\").replace(\"```\", \"\")\n",
    "print(output_string)"
   ]
  },
  {
   "cell_type": "code",
   "execution_count": null,
   "metadata": {},
   "outputs": [],
   "source": []
  }
 ],
 "metadata": {
  "kernelspec": {
   "display_name": "myenv",
   "language": "python",
   "name": "python3"
  },
  "language_info": {
   "codemirror_mode": {
    "name": "ipython",
    "version": 3
   },
   "file_extension": ".py",
   "mimetype": "text/x-python",
   "name": "python",
   "nbconvert_exporter": "python",
   "pygments_lexer": "ipython3",
   "version": "3.12.1"
  }
 },
 "nbformat": 4,
 "nbformat_minor": 2
}
