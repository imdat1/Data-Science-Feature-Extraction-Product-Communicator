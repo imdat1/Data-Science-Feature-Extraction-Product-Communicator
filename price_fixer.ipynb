{
 "cells": [
  {
   "cell_type": "markdown",
   "metadata": {},
   "source": [
    "#### This notebook was used to turn the string-valued prices of the JSON files into numbers"
   ]
  },
  {
   "cell_type": "code",
   "execution_count": 1,
   "metadata": {},
   "outputs": [],
   "source": [
    "import os\n",
    "import json\n",
    "\n",
    "def process_json_files(directory):\n",
    "    # Iterate over all files in the specified directory\n",
    "    for filename in os.listdir(directory):\n",
    "        if filename.endswith('.json'):\n",
    "            file_path = os.path.join(directory, filename)\n",
    "            \n",
    "            # Read the JSON file\n",
    "            with open(file_path, 'r', encoding='utf-8') as file:\n",
    "                data = json.load(file)\n",
    "            \n",
    "            # Remove dots and convert prices to integers\n",
    "            if 'regular_price' in data:\n",
    "                data['regular_price'] = int(data['regular_price'].replace('.', ''))\n",
    "            if 'happy_price' in data and data['happy_price'] is not None and data['happy_price'] != \"\":\n",
    "                data['happy_price'] = int(data['happy_price'].replace('.', ''))\n",
    "            \n",
    "            # Write the updated JSON back to the file\n",
    "            with open(file_path, 'w', encoding='utf-8') as file:\n",
    "                json.dump(data, file, ensure_ascii=False, indent=4)\n",
    "\n",
    "# Specify the directory containing the JSON files\n",
    "directory = r'C:\\Users\\tomce\\OneDrive - UKIM, FINKI\\Desktop\\Fakultet 3ta Godina\\2 Sesti Semestar\\0 DATA SCIENCE SEMINARSKA\\1 Starting Over\\products_categories_fixed\\mobile_phones\\mobile_phones_gemini'\n",
    "\n",
    "# Process the JSON files in the directory\n",
    "process_json_files(directory)\n"
   ]
  },
  {
   "cell_type": "code",
   "execution_count": null,
   "metadata": {},
   "outputs": [],
   "source": []
  }
 ],
 "metadata": {
  "kernelspec": {
   "display_name": "myenv",
   "language": "python",
   "name": "python3"
  },
  "language_info": {
   "codemirror_mode": {
    "name": "ipython",
    "version": 3
   },
   "file_extension": ".py",
   "mimetype": "text/x-python",
   "name": "python",
   "nbconvert_exporter": "python",
   "pygments_lexer": "ipython3",
   "version": "3.12.1"
  }
 },
 "nbformat": 4,
 "nbformat_minor": 2
}
