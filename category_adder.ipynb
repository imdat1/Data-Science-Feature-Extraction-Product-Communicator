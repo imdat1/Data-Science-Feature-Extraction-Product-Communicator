{
 "cells": [
  {
   "cell_type": "markdown",
   "metadata": {},
   "source": [
    "#### This notebook was used to add a \"category\" feature to JSON files of a folder"
   ]
  },
  {
   "cell_type": "code",
   "execution_count": 2,
   "metadata": {},
   "outputs": [],
   "source": [
    "import os\n",
    "import json"
   ]
  },
  {
   "cell_type": "code",
   "execution_count": 3,
   "metadata": {},
   "outputs": [
    {
     "name": "stdout",
     "output_type": "stream",
     "text": [
      "Added category 'mobile_phones' to all JSON files in C:\\Users\\tomce\\OneDrive - UKIM, FINKI\\Desktop\\Fakultet 3ta Godina\\2 Sesti Semestar\\0 DATA SCIENCE SEMINARSKA\\1 Starting Over\\products_categories_fixed\\mobile_phones\\mobile_phones_gemini\n"
     ]
    }
   ],
   "source": [
    "def add_category_to_json_files(directory, category):\n",
    "    # Iterate over all files in the directory\n",
    "    for filename in os.listdir(directory):\n",
    "        if filename.endswith(\".json\"):\n",
    "            file_path = os.path.join(directory, filename)\n",
    "            with open(file_path, 'r', encoding='utf-8') as file:\n",
    "                # Load the JSON data\n",
    "                data = json.load(file)\n",
    "            \n",
    "            # Add the category\n",
    "            data['category'] = category\n",
    "            \n",
    "            # Write the updated JSON back to the file\n",
    "            with open(file_path, 'w', encoding='utf-8') as file:\n",
    "                json.dump(data, file, ensure_ascii=False, indent=4)\n",
    "\n",
    "# Directory containing the JSON files\n",
    "json_directory = r'C:\\Users\\tomce\\OneDrive - UKIM, FINKI\\Desktop\\Fakultet 3ta Godina\\2 Sesti Semestar\\0 DATA SCIENCE SEMINARSKA\\1 Starting Over\\products_categories_fixed\\mobile_phones\\mobile_phones_gemini'\n",
    "\n",
    "# Category to be added\n",
    "category = 'mobile_phones'\n",
    "\n",
    "# Add category to all JSON files in the directory\n",
    "add_category_to_json_files(json_directory, category)\n",
    "\n",
    "print(f\"Added category '{category}' to all JSON files in {json_directory}\")\n"
   ]
  }
 ],
 "metadata": {
  "kernelspec": {
   "display_name": "myenv",
   "language": "python",
   "name": "python3"
  },
  "language_info": {
   "codemirror_mode": {
    "name": "ipython",
    "version": 3
   },
   "file_extension": ".py",
   "mimetype": "text/x-python",
   "name": "python",
   "nbconvert_exporter": "python",
   "pygments_lexer": "ipython3",
   "version": "3.12.1"
  }
 },
 "nbformat": 4,
 "nbformat_minor": 2
}
