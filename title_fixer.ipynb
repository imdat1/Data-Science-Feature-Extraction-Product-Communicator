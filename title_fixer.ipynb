{
 "cells": [
  {
   "cell_type": "markdown",
   "metadata": {},
   "source": [
    "#### This notebook was used to fill in the missing titles of some JSON products. It extracts it from the \"url\" of the product."
   ]
  },
  {
   "cell_type": "code",
   "execution_count": 3,
   "metadata": {},
   "outputs": [],
   "source": [
    "import os\n",
    "import json\n",
    "import shutil\n",
    "import requests\n",
    "from bs4 import BeautifulSoup"
   ]
  },
  {
   "cell_type": "code",
   "execution_count": 1,
   "metadata": {},
   "outputs": [],
   "source": [
    "source_directory = r'C:\\Users\\tomce\\OneDrive - UKIM, FINKI\\Desktop\\Fakultet 3ta Godina\\2 Sesti Semestar\\0 DATA SCIENCE SEMINARSKA\\1 Starting Over\\products_categories_fixed\\all_extracted_universal_template'"
   ]
  },
  {
   "cell_type": "code",
   "execution_count": 4,
   "metadata": {},
   "outputs": [],
   "source": [
    "for filename in os.listdir(source_directory):\n",
    "    if filename.endswith('.json'):\n",
    "        input_filepath = os.path.join(source_directory, filename)\n",
    "        \n",
    "        # Open and read each JSON file\n",
    "        with open(input_filepath, 'r', encoding='utf-8') as file:\n",
    "            data = json.load(file)\n",
    "        if data['title'] == \"\" or data['title']== None:\n",
    "            print(f\"Title is missing in {filename}\")"
   ]
  },
  {
   "cell_type": "code",
   "execution_count": 4,
   "metadata": {},
   "outputs": [
    {
     "name": "stdout",
     "output_type": "stream",
     "text": [
      "https://www.neptun.mk/categories/TABLETI/Apple-10-9-inch-iPad--10th--Wi-Fi-256GB---Blue-mpq93hc-a\n",
      "Scraped title: Apple 10.9-inch iPad (10th) Wi-Fi 256GB - Blue mpq93hc/a\n",
      "https://www.neptun.mk/categories/PECATARI/HP-M211dw-9YF83A\n",
      "Scraped title: Печатар HP M211dw 9YF83A\n",
      "Total files with missing titles: 2\n"
     ]
    }
   ],
   "source": [
    "# Source directory\n",
    "count = 0\n",
    "\n",
    "for filename in os.listdir(source_directory):\n",
    "    if filename.endswith('.json'):\n",
    "        source_file_path = os.path.join(source_directory, filename)\n",
    "        \n",
    "        # Read and parse the JSON file\n",
    "        with open(source_file_path, 'r', encoding='utf-8') as file:\n",
    "            data = json.load(file)\n",
    "        \n",
    "        # Check if the title is missing\n",
    "        if data.get('title') is None or data.get('title') == \"\":\n",
    "            count += 1\n",
    "            url = data['url']\n",
    "            print(url)\n",
    "            \n",
    "            # Fetch the HTML content from the URL\n",
    "            response = requests.get(url)\n",
    "            if response.status_code == 200:\n",
    "                soup = BeautifulSoup(response.content, 'html.parser')\n",
    "                \n",
    "                # Find the title in the HTML (adjust the selector based on the actual HTML structure)\n",
    "                title_element = soup.title.text.replace('\\n', '').strip()\n",
    "                if title_element:\n",
    "                    data['title'] = title_element\n",
    "                    print(f\"Scraped title: {title_element}\")\n",
    "                else:\n",
    "                    print(\"Title not found in the HTML.\")\n",
    "            else:\n",
    "                print(f\"Failed to fetch URL: {url}\")\n",
    "            \n",
    "            # Save the updated JSON file to the source directory (overwriting the original file)\n",
    "            with open(source_file_path, 'w', encoding='utf-8') as new_file:\n",
    "                json.dump(data, new_file, ensure_ascii=False, indent=4)\n",
    "\n",
    "print(f\"Total files with missing titles: {count}\")\n"
   ]
  },
  {
   "cell_type": "code",
   "execution_count": null,
   "metadata": {},
   "outputs": [],
   "source": []
  }
 ],
 "metadata": {
  "kernelspec": {
   "display_name": "myenv",
   "language": "python",
   "name": "python3"
  },
  "language_info": {
   "codemirror_mode": {
    "name": "ipython",
    "version": 3
   },
   "file_extension": ".py",
   "mimetype": "text/x-python",
   "name": "python",
   "nbconvert_exporter": "python",
   "pygments_lexer": "ipython3",
   "version": "3.12.1"
  }
 },
 "nbformat": 4,
 "nbformat_minor": 2
}
