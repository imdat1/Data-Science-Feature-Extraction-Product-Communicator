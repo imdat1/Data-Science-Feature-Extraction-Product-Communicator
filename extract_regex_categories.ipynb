{
 "cells": [
  {
   "cell_type": "markdown",
   "metadata": {},
   "source": [
    "#### This was used to divide the products into folders of categories."
   ]
  },
  {
   "cell_type": "code",
   "execution_count": 1,
   "metadata": {},
   "outputs": [],
   "source": [
    "import os\n",
    "import json\n",
    "import re"
   ]
  },
  {
   "cell_type": "code",
   "execution_count": 2,
   "metadata": {},
   "outputs": [
    {
     "name": "stdout",
     "output_type": "stream",
     "text": [
      "Processing complete.\n"
     ]
    }
   ],
   "source": [
    "# Function to extract category from URL\n",
    "def extract_category(url):\n",
    "    pattern = r\"https://www\\.neptun\\.mk/categories/([^/]+)/\"\n",
    "    match = re.search(pattern, url)\n",
    "    if match:\n",
    "        return match.group(1)\n",
    "    return None\n",
    "\n",
    "# Directory containing the JSON files\n",
    "input_directory = r\"C:\\Users\\tomce\\OneDrive - UKIM, FINKI\\Desktop\\Fakultet 3ta Godina\\2 Sesti Semestar\\0 DATA SCIENCE SEMINARSKA\\1 Starting Over\\products_latest\"\n",
    "output_directory = r\"C:\\Users\\tomce\\OneDrive - UKIM, FINKI\\Desktop\\Fakultet 3ta Godina\\2 Sesti Semestar\\0 DATA SCIENCE SEMINARSKA\\1 Starting Over\\products_with_categories\"\n",
    "\n",
    "# Ensure output directory exists\n",
    "if not os.path.exists(output_directory):\n",
    "    os.makedirs(output_directory)\n",
    "\n",
    "# Iterate over each JSON file in the input directory\n",
    "for filename in os.listdir(input_directory):\n",
    "    if filename.endswith(\".json\"):\n",
    "        file_path = os.path.join(input_directory, filename)\n",
    "        \n",
    "        # Read the JSON file\n",
    "        with open(file_path, 'r', encoding='utf-8') as file:\n",
    "            data = json.load(file)\n",
    "        \n",
    "        # Extract category from URL and add it to the JSON data\n",
    "        category = extract_category(data[\"url\"])\n",
    "        if category:\n",
    "            data[\"category\"] = category\n",
    "            \n",
    "            # Create category folder if it doesn't exist\n",
    "            category_folder = os.path.join(output_directory, category)\n",
    "            if not os.path.exists(category_folder):\n",
    "                os.makedirs(category_folder)\n",
    "            \n",
    "            # Write the updated JSON file to the category folder\n",
    "            output_file_path = os.path.join(category_folder, filename)\n",
    "            with open(output_file_path, 'w', encoding='utf-8') as outfile:\n",
    "                json.dump(data, outfile, ensure_ascii=False, indent=4)\n",
    "\n",
    "print(\"Processing complete.\")\n"
   ]
  }
 ],
 "metadata": {
  "kernelspec": {
   "display_name": "myenv",
   "language": "python",
   "name": "python3"
  },
  "language_info": {
   "codemirror_mode": {
    "name": "ipython",
    "version": 3
   },
   "file_extension": ".py",
   "mimetype": "text/x-python",
   "name": "python",
   "nbconvert_exporter": "python",
   "pygments_lexer": "ipython3",
   "version": "3.12.1"
  }
 },
 "nbformat": 4,
 "nbformat_minor": 2
}
